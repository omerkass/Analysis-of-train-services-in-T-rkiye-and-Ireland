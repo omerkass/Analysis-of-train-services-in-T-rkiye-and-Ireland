{
 "cells": [
  {
   "cell_type": "code",
   "execution_count": 1,
   "id": "296713bf-f6d4-4823-ba5a-2ab221057c65",
   "metadata": {
    "tags": []
   },
   "outputs": [],
   "source": [
    "import numpy as np\n",
    "import pandas as pd\n",
    "import seaborn as sns\n",
    "from matplotlib import pyplot as plt\n",
    "from sklearn.model_selection import train_test_split, cross_val_score\n",
    "from sklearn.decomposition import PCA\n",
    "from sklearn.metrics import r2_score, mean_squared_error, mean_absolute_error\n",
    "from sklearn.model_selection import train_test_split, GridSearchCV\n",
    "from sklearn.ensemble import RandomForestRegressor, GradientBoostingRegressor\n",
    "from sklearn.linear_model import LinearRegression\n",
    "from scipy import stats\n",
    "from scipy.stats import pearsonr\n",
    "from scipy.stats import chi2_contingency\n",
    "from scipy.stats import wilcoxon\n",
    "from scipy.stats import f_oneway\n",
    "from scipy.stats import ttest_ind"
   ]
  },
  {
   "cell_type": "code",
   "execution_count": 2,
   "id": "fc34c834-a63f-4cfe-90ca-79e9b14aeb02",
   "metadata": {
    "tags": []
   },
   "outputs": [],
   "source": [
    "irl = pd.read_csv(\"ireland.csv\")\n",
    "tr = pd.read_csv(\"turkiye.csv\")"
   ]
  },
  {
   "cell_type": "code",
   "execution_count": 3,
   "id": "f7a27559-8586-4d0c-b2eb-6b734697b759",
   "metadata": {
    "tags": []
   },
   "outputs": [
    {
     "data": {
      "text/html": [
       "<div>\n",
       "<style scoped>\n",
       "    .dataframe tbody tr th:only-of-type {\n",
       "        vertical-align: middle;\n",
       "    }\n",
       "\n",
       "    .dataframe tbody tr th {\n",
       "        vertical-align: top;\n",
       "    }\n",
       "\n",
       "    .dataframe thead th {\n",
       "        text-align: right;\n",
       "    }\n",
       "</style>\n",
       "<table border=\"1\" class=\"dataframe\">\n",
       "  <thead>\n",
       "    <tr style=\"text-align: right;\">\n",
       "      <th></th>\n",
       "      <th>DATAFLOW</th>\n",
       "      <th>date</th>\n",
       "      <th>unit</th>\n",
       "      <th>net_seg15</th>\n",
       "      <th>train</th>\n",
       "      <th>TIME_PERIOD</th>\n",
       "      <th>OBS_VALUE</th>\n",
       "    </tr>\n",
       "  </thead>\n",
       "  <tbody>\n",
       "    <tr>\n",
       "      <th>0</th>\n",
       "      <td>ESTAT:RAIL_TF_NS15_TR(1.0)</td>\n",
       "      <td>28/06/18</td>\n",
       "      <td>NR</td>\n",
       "      <td>TRS10001_NOT_TEN</td>\n",
       "      <td>TRN_GD</td>\n",
       "      <td>2015</td>\n",
       "      <td>1</td>\n",
       "    </tr>\n",
       "    <tr>\n",
       "      <th>1</th>\n",
       "      <td>ESTAT:RAIL_TF_NS15_TR(1.0)</td>\n",
       "      <td>28/06/18</td>\n",
       "      <td>NR</td>\n",
       "      <td>TRS10001_NOT_TEN</td>\n",
       "      <td>TRN_OTH</td>\n",
       "      <td>2015</td>\n",
       "      <td>0</td>\n",
       "    </tr>\n",
       "    <tr>\n",
       "      <th>2</th>\n",
       "      <td>ESTAT:RAIL_TF_NS15_TR(1.0)</td>\n",
       "      <td>28/06/18</td>\n",
       "      <td>NR</td>\n",
       "      <td>TRS10001_NOT_TEN</td>\n",
       "      <td>TRN_PAS</td>\n",
       "      <td>2015</td>\n",
       "      <td>1760</td>\n",
       "    </tr>\n",
       "    <tr>\n",
       "      <th>3</th>\n",
       "      <td>ESTAT:RAIL_TF_NS15_TR(1.0)</td>\n",
       "      <td>28/06/18</td>\n",
       "      <td>NR</td>\n",
       "      <td>TRS10002_NOT_TEN</td>\n",
       "      <td>TRN_GD</td>\n",
       "      <td>2015</td>\n",
       "      <td>520</td>\n",
       "    </tr>\n",
       "    <tr>\n",
       "      <th>4</th>\n",
       "      <td>ESTAT:RAIL_TF_NS15_TR(1.0)</td>\n",
       "      <td>28/06/18</td>\n",
       "      <td>NR</td>\n",
       "      <td>TRS10002_NOT_TEN</td>\n",
       "      <td>TRN_OTH</td>\n",
       "      <td>2015</td>\n",
       "      <td>6</td>\n",
       "    </tr>\n",
       "  </tbody>\n",
       "</table>\n",
       "</div>"
      ],
      "text/plain": [
       "                     DATAFLOW      date unit         net_seg15    train  \\\n",
       "0  ESTAT:RAIL_TF_NS15_TR(1.0)  28/06/18   NR  TRS10001_NOT_TEN   TRN_GD   \n",
       "1  ESTAT:RAIL_TF_NS15_TR(1.0)  28/06/18   NR  TRS10001_NOT_TEN  TRN_OTH   \n",
       "2  ESTAT:RAIL_TF_NS15_TR(1.0)  28/06/18   NR  TRS10001_NOT_TEN  TRN_PAS   \n",
       "3  ESTAT:RAIL_TF_NS15_TR(1.0)  28/06/18   NR  TRS10002_NOT_TEN   TRN_GD   \n",
       "4  ESTAT:RAIL_TF_NS15_TR(1.0)  28/06/18   NR  TRS10002_NOT_TEN  TRN_OTH   \n",
       "\n",
       "   TIME_PERIOD  OBS_VALUE  \n",
       "0         2015          1  \n",
       "1         2015          0  \n",
       "2         2015       1760  \n",
       "3         2015        520  \n",
       "4         2015          6  "
      ]
     },
     "execution_count": 3,
     "metadata": {},
     "output_type": "execute_result"
    }
   ],
   "source": [
    "irl.head()\n",
    "tr.head()"
   ]
  },
  {
   "cell_type": "code",
   "execution_count": 4,
   "id": "23731d9b-e28c-4f5b-b7bf-5361a005c8c2",
   "metadata": {
    "tags": []
   },
   "outputs": [
    {
     "name": "stdout",
     "output_type": "stream",
     "text": [
      "<class 'pandas.core.frame.DataFrame'>\n",
      "RangeIndex: 2088 entries, 0 to 2087\n",
      "Data columns (total 7 columns):\n",
      " #   Column       Non-Null Count  Dtype \n",
      "---  ------       --------------  ----- \n",
      " 0   DATAFLOW     2088 non-null   object\n",
      " 1   date         2088 non-null   object\n",
      " 2   unit         2088 non-null   object\n",
      " 3   net_seg15    2088 non-null   object\n",
      " 4   train        2088 non-null   object\n",
      " 5   TIME_PERIOD  2088 non-null   int64 \n",
      " 6   OBS_VALUE    2088 non-null   int64 \n",
      "dtypes: int64(2), object(5)\n",
      "memory usage: 114.3+ KB\n",
      "None\n",
      "<class 'pandas.core.frame.DataFrame'>\n",
      "RangeIndex: 228 entries, 0 to 227\n",
      "Data columns (total 9 columns):\n",
      " #   Column       Non-Null Count  Dtype \n",
      "---  ------       --------------  ----- \n",
      " 0   DATAFLOW     228 non-null    object\n",
      " 1   date         228 non-null    object\n",
      " 2   freq         228 non-null    object\n",
      " 3   unit         228 non-null    object\n",
      " 4   country      228 non-null    object\n",
      " 5   net_seg15    228 non-null    object\n",
      " 6   train        228 non-null    object\n",
      " 7   TIME_PERIOD  228 non-null    int64 \n",
      " 8   OBS_VALUE    228 non-null    int64 \n",
      "dtypes: int64(2), object(7)\n",
      "memory usage: 16.2+ KB\n",
      "None\n"
     ]
    }
   ],
   "source": [
    "# Display basic information about the DataFrame\n",
    "print(tr.info())\n",
    "print(irl.info())"
   ]
  },
  {
   "cell_type": "code",
   "execution_count": 5,
   "id": "a941c63b-f599-461f-b6f3-4d662e3db96c",
   "metadata": {
    "tags": []
   },
   "outputs": [
    {
     "name": "stdout",
     "output_type": "stream",
     "text": [
      "Index(['DATAFLOW', 'date', 'freq', 'unit', 'country', 'net_seg15', 'train',\n",
      "       'TIME_PERIOD', 'OBS_VALUE'],\n",
      "      dtype='object')\n",
      "Index(['DATAFLOW', 'date', 'unit', 'net_seg15', 'train', 'TIME_PERIOD',\n",
      "       'OBS_VALUE'],\n",
      "      dtype='object')\n"
     ]
    }
   ],
   "source": [
    "#shows only column names\n",
    "print(irl.columns)\n",
    "print(tr.columns)"
   ]
  },
  {
   "cell_type": "code",
   "execution_count": 6,
   "id": "e3f25fc4-ba0f-4495-8ac9-f0aedfad48de",
   "metadata": {
    "tags": []
   },
   "outputs": [
    {
     "name": "stdout",
     "output_type": "stream",
     "text": [
      "       TIME_PERIOD     OBS_VALUE\n",
      "count   228.000000    228.000000\n",
      "mean   2012.719298   3865.105263\n",
      "std       5.598157   5253.962504\n",
      "min    2005.000000      0.000000\n",
      "25%    2010.000000    140.000000\n",
      "50%    2015.000000   1651.000000\n",
      "75%    2020.000000   5901.000000\n",
      "max    2020.000000  31005.000000\n",
      "       TIME_PERIOD     OBS_VALUE\n",
      "count  2088.000000   2088.000000\n",
      "mean   2012.327586   1288.035441\n",
      "std       5.627297   4374.125306\n",
      "min    2005.000000      0.000000\n",
      "25%    2005.000000      4.000000\n",
      "50%    2010.000000    194.000000\n",
      "75%    2015.000000   1090.750000\n",
      "max    2020.000000  54613.000000\n"
     ]
    }
   ],
   "source": [
    "#Basic statistical summaries\n",
    "print(irl.describe())\n",
    "print(tr.describe())"
   ]
  },
  {
   "cell_type": "code",
   "execution_count": 7,
   "id": "9f1ba85b-c7ca-4e0a-b188-f6cc4cfeb792",
   "metadata": {},
   "outputs": [
    {
     "name": "stdout",
     "output_type": "stream",
     "text": [
      "DATAFLOW       0\n",
      "date           0\n",
      "unit           0\n",
      "net_seg15      0\n",
      "train          0\n",
      "TIME_PERIOD    0\n",
      "OBS_VALUE      0\n",
      "dtype: int64\n",
      "DATAFLOW       0\n",
      "date           0\n",
      "freq           0\n",
      "unit           0\n",
      "country        0\n",
      "net_seg15      0\n",
      "train          0\n",
      "TIME_PERIOD    0\n",
      "OBS_VALUE      0\n",
      "dtype: int64\n"
     ]
    }
   ],
   "source": [
    "# Check for missing values\n",
    "print(tr.isnull().sum())\n",
    "print(irl.isnull().sum())"
   ]
  },
  {
   "cell_type": "code",
   "execution_count": 8,
   "id": "9408808a-1ea6-4ba5-aeb0-9c6d45030d14",
   "metadata": {
    "tags": []
   },
   "outputs": [
    {
     "data": {
      "text/plain": [
       "0"
      ]
     },
     "execution_count": 8,
     "metadata": {},
     "output_type": "execute_result"
    }
   ],
   "source": [
    "# Check Duplicate Values\n",
    "tr.duplicated().sum()\n",
    "irl.duplicated().sum()"
   ]
  },
  {
   "cell_type": "code",
   "execution_count": 9,
   "id": "e513b54a-7da2-4962-bbe0-2483975db93d",
   "metadata": {
    "tags": []
   },
   "outputs": [
    {
     "data": {
      "text/plain": [
       "(228, 9)"
      ]
     },
     "execution_count": 9,
     "metadata": {},
     "output_type": "execute_result"
    }
   ],
   "source": [
    "tr.shape\n",
    "irl.shape"
   ]
  },
  {
   "cell_type": "code",
   "execution_count": 10,
   "id": "a23274a7-b8e9-47bd-a420-cc820c59b205",
   "metadata": {
    "tags": []
   },
   "outputs": [
    {
     "data": {
      "text/plain": [
       "0        48\n",
       "156       6\n",
       "936       4\n",
       "676       4\n",
       "312       4\n",
       "         ..\n",
       "1716      1\n",
       "9880      1\n",
       "2340      1\n",
       "2808      1\n",
       "16190     1\n",
       "Name: OBS_VALUE, Length: 111, dtype: int64"
      ]
     },
     "execution_count": 10,
     "metadata": {},
     "output_type": "execute_result"
    }
   ],
   "source": [
    "tr['OBS_VALUE'].value_counts()\n",
    "irl['OBS_VALUE'].value_counts()"
   ]
  },
  {
   "cell_type": "code",
   "execution_count": 11,
   "id": "1c5692d8-ea25-4a97-9962-39b1977957ad",
   "metadata": {
    "tags": []
   },
   "outputs": [
    {
     "data": {
      "text/plain": [
       "<Axes: xlabel='OBS_VALUE'>"
      ]
     },
     "execution_count": 11,
     "metadata": {},
     "output_type": "execute_result"
    },
    {
     "data": {
      "image/png": "[encoded data removed]",
      "text/plain": [
       "<Figure size 640x480 with 1 Axes>"
      ]
     },
     "metadata": {},
     "output_type": "display_data"
    }
   ],
   "source": [
    "sns.boxplot(x=tr[\"OBS_VALUE\"]) "
   ]
  },
  {
   "cell_type": "code",
   "execution_count": 12,
   "id": "e7d78356-50b1-4f71-8a87-2aa97b0399ee",
   "metadata": {
    "tags": []
   },
   "outputs": [
    {
     "data": {
      "text/plain": [
       "<Axes: xlabel='OBS_VALUE'>"
      ]
     },
     "execution_count": 12,
     "metadata": {},
     "output_type": "execute_result"
    },
    {
     "data": {
      "image/png": "[encoded data removed]",
      "text/plain": [
       "<Figure size 640x480 with 1 Axes>"
      ]
     },
     "metadata": {},
     "output_type": "display_data"
    }
   ],
   "source": [
    "sns.boxplot(x=irl[\"OBS_VALUE\"]) "
   ]
  },
  {
   "cell_type": "code",
   "execution_count": 13,
   "id": "d4720130-da07-4604-bde0-6401a2db3877",
   "metadata": {
    "tags": []
   },
   "outputs": [
    {
     "name": "stdout",
     "output_type": "stream",
     "text": [
      "TIME_PERIOD\n",
      "2005    772270\n",
      "2010    611410\n",
      "2015    600716\n",
      "2020    705022\n",
      "Name: OBS_VALUE, dtype: int64\n",
      "TIME_PERIOD\n",
      "2005    204256\n",
      "2010    252369\n",
      "2015    210224\n",
      "2020    214395\n",
      "Name: OBS_VALUE, dtype: int64\n"
     ]
    }
   ],
   "source": [
    "turkiye_year_period = tr.groupby('TIME_PERIOD')['OBS_VALUE'].sum()\n",
    "print(turkiye_year_period)\n",
    "ireland_year_period = irl.groupby('TIME_PERIOD')['OBS_VALUE'].sum()\n",
    "print(ireland_year_period)"
   ]
  },
  {
   "cell_type": "code",
   "execution_count": 14,
   "id": "538143e2-5d5c-4eca-a825-aa4ed5f3b634",
   "metadata": {
    "tags": []
   },
   "outputs": [
    {
     "name": "stdout",
     "output_type": "stream",
     "text": [
      "Tukiye= 1288.0354406130268\n",
      "ireland= 3865.1052631578946\n"
     ]
    }
   ],
   "source": [
    "tr_mean_val= tr['OBS_VALUE'].mean()\n",
    "print(\"Tukiye=\", tr_mean_val)\n",
    "irl_mean_val= irl['OBS_VALUE'].mean()\n",
    "print(\"ireland=\", irl_mean_val)"
   ]
  },
  {
   "cell_type": "code",
   "execution_count": 15,
   "id": "35165a0f-b176-49fd-b4e9-ee154fcbce1f",
   "metadata": {
    "tags": []
   },
   "outputs": [
    {
     "data": {
      "image/png": "[encoded data removed]",
      "text/plain": [
       "<Figure size 1000x600 with 1 Axes>"
      ]
     },
     "metadata": {},
     "output_type": "display_data"
    }
   ],
   "source": [
    "turkiye_year_period = tr.groupby('TIME_PERIOD')['OBS_VALUE'].sum()\n",
    "ireland_year_period = irl.groupby('TIME_PERIOD')['OBS_VALUE'].sum()\n",
    "\n",
    "plt.figure(figsize=(10, 6))\n",
    "turkiye_year_period.plot(kind='line', marker='o', color='red', label='Turkey')\n",
    "ireland_year_period.plot(kind='line', marker='o', color='green', label='Ireland')\n",
    "plt.title('Train Rate per Year', fontsize=15)\n",
    "plt.xlabel('Year', fontsize=12)\n",
    "plt.ylabel('Train Rate', fontsize=12)\n",
    "plt.grid()\n",
    "plt.legend()\n",
    "plt.show()"
   ]
  },
  {
   "cell_type": "code",
   "execution_count": 16,
   "id": "ceae66dc-5a44-4f9b-9830-a6186712939e",
   "metadata": {
    "tags": []
   },
   "outputs": [
    {
     "name": "stdout",
     "output_type": "stream",
     "text": [
      "TIME_PERIOD\n",
      "2005    772270\n",
      "2010    611410\n",
      "2015    600716\n",
      "2020    705022\n",
      "Name: OBS_VALUE, dtype: int64\n",
      "TIME_PERIOD\n",
      "2005    204256\n",
      "2010    252369\n",
      "2015    210224\n",
      "2020    214395\n",
      "Name: OBS_VALUE, dtype: int64\n"
     ]
    }
   ],
   "source": [
    "turkiye_train_year_period = tr.groupby('train')['OBS_VALUE'].sum()\n",
    "print(turkiye_year_period)\n",
    "ireland_train_year_period = irl.groupby('train')['OBS_VALUE'].sum()\n",
    "print(ireland_year_period)"
   ]
  },
  {
   "cell_type": "code",
   "execution_count": 17,
   "id": "091165a9-2677-48e8-86e3-3c41d3ef6c22",
   "metadata": {
    "tags": []
   },
   "outputs": [
    {
     "data": {
      "image/png": "[encoded data removed]",
      "text/plain": [
       "<Figure size 1200x800 with 1 Axes>"
      ]
     },
     "metadata": {},
     "output_type": "display_data"
    }
   ],
   "source": [
    "plt.figure(figsize=(12, 8))\n",
    "sns.barplot(x='train', y='OBS_VALUE', data=tr, hue='train')\n",
    "plt.title('Train Rate Type', fontsize=15)\n",
    "plt.xlabel('Train Type', fontsize=12)\n",
    "plt.ylabel('Value', fontsize=12)\n",
    "plt.show()"
   ]
  },
  {
   "cell_type": "code",
   "execution_count": 18,
   "id": "b687be2d-bad3-489e-baf8-fc402956cce3",
   "metadata": {
    "tags": []
   },
   "outputs": [],
   "source": [
    "total_train=pd.read_csv(\"trie.csv\")"
   ]
  },
  {
   "cell_type": "code",
   "execution_count": 19,
   "id": "14854719-b69e-47de-afc8-653d75cbfe87",
   "metadata": {
    "tags": []
   },
   "outputs": [
    {
     "data": {
      "image/png": "[encoded data removed]",
      "text/plain": [
       "<Figure size 1200x800 with 1 Axes>"
      ]
     },
     "metadata": {},
     "output_type": "display_data"
    }
   ],
   "source": [
    "plt.figure(figsize=(12, 8))\n",
    "sns.barplot(x='country', y='OBS_VALUE', data=total_train, hue='train')\n",
    "plt.title('Train Type per country', fontsize=15)\n",
    "plt.xlabel('Country', fontsize=12)\n",
    "plt.ylabel('Value', fontsize=12)\n",
    "plt.show()"
   ]
  },
  {
   "cell_type": "code",
   "execution_count": 20,
   "id": "e99f2b99-f971-429f-9818-b022c372f654",
   "metadata": {
    "tags": []
   },
   "outputs": [
    {
     "data": {
      "image/png": "[encoded data removed]",
      "text/plain": [
       "<Figure size 2000x500 with 1 Axes>"
      ]
     },
     "metadata": {},
     "output_type": "display_data"
    }
   ],
   "source": [
    "plt.figure(figsize=(20,5))\n",
    "sns.countplot(total_train,x='TIME_PERIOD');\n",
    "plt.title('Time Period Count  Train Plot');\n",
    "plt.show()"
   ]
  },
  {
   "cell_type": "code",
   "execution_count": 21,
   "id": "951842e6-57ab-4edd-ad56-b80c90c748d5",
   "metadata": {
    "tags": []
   },
   "outputs": [
    {
     "data": {
      "text/html": [
       "<div>\n",
       "<style scoped>\n",
       "    .dataframe tbody tr th:only-of-type {\n",
       "        vertical-align: middle;\n",
       "    }\n",
       "\n",
       "    .dataframe tbody tr th {\n",
       "        vertical-align: top;\n",
       "    }\n",
       "\n",
       "    .dataframe thead th {\n",
       "        text-align: right;\n",
       "    }\n",
       "</style>\n",
       "<table border=\"1\" class=\"dataframe\">\n",
       "  <thead>\n",
       "    <tr style=\"text-align: right;\">\n",
       "      <th></th>\n",
       "      <th>DATAFLOW</th>\n",
       "      <th>LAST UPDATE</th>\n",
       "      <th>freq</th>\n",
       "      <th>unit</th>\n",
       "      <th>country</th>\n",
       "      <th>net_seg15</th>\n",
       "      <th>train</th>\n",
       "      <th>TIME_PERIOD</th>\n",
       "      <th>OBS_VALUE</th>\n",
       "      <th>New_train</th>\n",
       "    </tr>\n",
       "  </thead>\n",
       "  <tbody>\n",
       "    <tr>\n",
       "      <th>0</th>\n",
       "      <td>ESTAT:RAIL_TF_NS15_TR(1.0)</td>\n",
       "      <td>28/06/18 11:00:00</td>\n",
       "      <td>A</td>\n",
       "      <td>NR</td>\n",
       "      <td>Turkey</td>\n",
       "      <td>TRS10001_NOT_TEN</td>\n",
       "      <td>TRN_GD</td>\n",
       "      <td>2015</td>\n",
       "      <td>1</td>\n",
       "      <td>0</td>\n",
       "    </tr>\n",
       "    <tr>\n",
       "      <th>1</th>\n",
       "      <td>ESTAT:RAIL_TF_NS15_TR(1.0)</td>\n",
       "      <td>28/06/18 11:00:00</td>\n",
       "      <td>A</td>\n",
       "      <td>NR</td>\n",
       "      <td>Turkey</td>\n",
       "      <td>TRS10001_NOT_TEN</td>\n",
       "      <td>TRN_OTH</td>\n",
       "      <td>2015</td>\n",
       "      <td>0</td>\n",
       "      <td>1</td>\n",
       "    </tr>\n",
       "    <tr>\n",
       "      <th>2</th>\n",
       "      <td>ESTAT:RAIL_TF_NS15_TR(1.0)</td>\n",
       "      <td>28/06/18 11:00:00</td>\n",
       "      <td>A</td>\n",
       "      <td>NR</td>\n",
       "      <td>Turkey</td>\n",
       "      <td>TRS10001_NOT_TEN</td>\n",
       "      <td>TRN_PAS</td>\n",
       "      <td>2015</td>\n",
       "      <td>1760</td>\n",
       "      <td>2</td>\n",
       "    </tr>\n",
       "    <tr>\n",
       "      <th>3</th>\n",
       "      <td>ESTAT:RAIL_TF_NS15_TR(1.0)</td>\n",
       "      <td>28/06/18 11:00:00</td>\n",
       "      <td>A</td>\n",
       "      <td>NR</td>\n",
       "      <td>Turkey</td>\n",
       "      <td>TRS10002_NOT_TEN</td>\n",
       "      <td>TRN_GD</td>\n",
       "      <td>2015</td>\n",
       "      <td>520</td>\n",
       "      <td>0</td>\n",
       "    </tr>\n",
       "    <tr>\n",
       "      <th>4</th>\n",
       "      <td>ESTAT:RAIL_TF_NS15_TR(1.0)</td>\n",
       "      <td>28/06/18 11:00:00</td>\n",
       "      <td>A</td>\n",
       "      <td>NR</td>\n",
       "      <td>Turkey</td>\n",
       "      <td>TRS10002_NOT_TEN</td>\n",
       "      <td>TRN_OTH</td>\n",
       "      <td>2015</td>\n",
       "      <td>6</td>\n",
       "      <td>1</td>\n",
       "    </tr>\n",
       "    <tr>\n",
       "      <th>...</th>\n",
       "      <td>...</td>\n",
       "      <td>...</td>\n",
       "      <td>...</td>\n",
       "      <td>...</td>\n",
       "      <td>...</td>\n",
       "      <td>...</td>\n",
       "      <td>...</td>\n",
       "      <td>...</td>\n",
       "      <td>...</td>\n",
       "      <td>...</td>\n",
       "    </tr>\n",
       "    <tr>\n",
       "      <th>2311</th>\n",
       "      <td>ESTAT:RAIL_TF_NS20_IE(1.0)</td>\n",
       "      <td>2/2/2023 23:00</td>\n",
       "      <td>A</td>\n",
       "      <td>NR</td>\n",
       "      <td>Ireland</td>\n",
       "      <td>IES20026_TEN</td>\n",
       "      <td>TRN_GD</td>\n",
       "      <td>2020</td>\n",
       "      <td>0</td>\n",
       "      <td>0</td>\n",
       "    </tr>\n",
       "    <tr>\n",
       "      <th>2312</th>\n",
       "      <td>ESTAT:RAIL_TF_NS20_IE(1.0)</td>\n",
       "      <td>2/2/2023 23:00</td>\n",
       "      <td>A</td>\n",
       "      <td>NR</td>\n",
       "      <td>Ireland</td>\n",
       "      <td>IES20027_TEN</td>\n",
       "      <td>TRN_GD</td>\n",
       "      <td>2020</td>\n",
       "      <td>0</td>\n",
       "      <td>0</td>\n",
       "    </tr>\n",
       "    <tr>\n",
       "      <th>2313</th>\n",
       "      <td>ESTAT:RAIL_TF_NS20_IE(1.0)</td>\n",
       "      <td>2/2/2023 23:00</td>\n",
       "      <td>A</td>\n",
       "      <td>NR</td>\n",
       "      <td>Ireland</td>\n",
       "      <td>IES20028_TEN</td>\n",
       "      <td>TRN_PAS</td>\n",
       "      <td>2020</td>\n",
       "      <td>6499</td>\n",
       "      <td>2</td>\n",
       "    </tr>\n",
       "    <tr>\n",
       "      <th>2314</th>\n",
       "      <td>ESTAT:RAIL_TF_NS20_IE(1.0)</td>\n",
       "      <td>2/2/2023 23:00</td>\n",
       "      <td>A</td>\n",
       "      <td>NR</td>\n",
       "      <td>Ireland</td>\n",
       "      <td>IES20029_TEN</td>\n",
       "      <td>TRN_PAS</td>\n",
       "      <td>2020</td>\n",
       "      <td>5830</td>\n",
       "      <td>2</td>\n",
       "    </tr>\n",
       "    <tr>\n",
       "      <th>2315</th>\n",
       "      <td>ESTAT:RAIL_TF_NS20_IE(1.0)</td>\n",
       "      <td>2/2/2023 23:00</td>\n",
       "      <td>A</td>\n",
       "      <td>NR</td>\n",
       "      <td>Ireland</td>\n",
       "      <td>IES20030_TEN</td>\n",
       "      <td>TRN_PAS</td>\n",
       "      <td>2020</td>\n",
       "      <td>4219</td>\n",
       "      <td>2</td>\n",
       "    </tr>\n",
       "  </tbody>\n",
       "</table>\n",
       "<p>2316 rows × 10 columns</p>\n",
       "</div>"
      ],
      "text/plain": [
       "                        DATAFLOW        LAST UPDATE freq unit  country  \\\n",
       "0     ESTAT:RAIL_TF_NS15_TR(1.0)  28/06/18 11:00:00    A   NR   Turkey   \n",
       "1     ESTAT:RAIL_TF_NS15_TR(1.0)  28/06/18 11:00:00    A   NR   Turkey   \n",
       "2     ESTAT:RAIL_TF_NS15_TR(1.0)  28/06/18 11:00:00    A   NR   Turkey   \n",
       "3     ESTAT:RAIL_TF_NS15_TR(1.0)  28/06/18 11:00:00    A   NR   Turkey   \n",
       "4     ESTAT:RAIL_TF_NS15_TR(1.0)  28/06/18 11:00:00    A   NR   Turkey   \n",
       "...                          ...                ...  ...  ...      ...   \n",
       "2311  ESTAT:RAIL_TF_NS20_IE(1.0)     2/2/2023 23:00    A   NR  Ireland   \n",
       "2312  ESTAT:RAIL_TF_NS20_IE(1.0)     2/2/2023 23:00    A   NR  Ireland   \n",
       "2313  ESTAT:RAIL_TF_NS20_IE(1.0)     2/2/2023 23:00    A   NR  Ireland   \n",
       "2314  ESTAT:RAIL_TF_NS20_IE(1.0)     2/2/2023 23:00    A   NR  Ireland   \n",
       "2315  ESTAT:RAIL_TF_NS20_IE(1.0)     2/2/2023 23:00    A   NR  Ireland   \n",
       "\n",
       "             net_seg15    train  TIME_PERIOD  OBS_VALUE  New_train  \n",
       "0     TRS10001_NOT_TEN   TRN_GD         2015          1          0  \n",
       "1     TRS10001_NOT_TEN  TRN_OTH         2015          0          1  \n",
       "2     TRS10001_NOT_TEN  TRN_PAS         2015       1760          2  \n",
       "3     TRS10002_NOT_TEN   TRN_GD         2015        520          0  \n",
       "4     TRS10002_NOT_TEN  TRN_OTH         2015          6          1  \n",
       "...                ...      ...          ...        ...        ...  \n",
       "2311      IES20026_TEN   TRN_GD         2020          0          0  \n",
       "2312      IES20027_TEN   TRN_GD         2020          0          0  \n",
       "2313      IES20028_TEN  TRN_PAS         2020       6499          2  \n",
       "2314      IES20029_TEN  TRN_PAS         2020       5830          2  \n",
       "2315      IES20030_TEN  TRN_PAS         2020       4219          2  \n",
       "\n",
       "[2316 rows x 10 columns]"
      ]
     },
     "execution_count": 21,
     "metadata": {},
     "output_type": "execute_result"
    }
   ],
   "source": [
    "##Converting a variable into an integer\n",
    "total_train['New_train'] =total_train['train'].map({'TRN_GD': 0, 'TRN_OTH': 1 , 'TRN_PAS': 2})\n",
    "total_train"
   ]
  },
  {
   "cell_type": "code",
   "execution_count": 22,
   "id": "d5c076c4-e059-4a8f-ac4d-ea28548378e8",
   "metadata": {
    "tags": []
   },
   "outputs": [
    {
     "data": {
      "text/html": [
       "<div>\n",
       "<style scoped>\n",
       "    .dataframe tbody tr th:only-of-type {\n",
       "        vertical-align: middle;\n",
       "    }\n",
       "\n",
       "    .dataframe tbody tr th {\n",
       "        vertical-align: top;\n",
       "    }\n",
       "\n",
       "    .dataframe thead th {\n",
       "        text-align: right;\n",
       "    }\n",
       "</style>\n",
       "<table border=\"1\" class=\"dataframe\">\n",
       "  <thead>\n",
       "    <tr style=\"text-align: right;\">\n",
       "      <th></th>\n",
       "      <th>DATAFLOW</th>\n",
       "      <th>LAST UPDATE</th>\n",
       "      <th>freq</th>\n",
       "      <th>unit</th>\n",
       "      <th>country</th>\n",
       "      <th>net_seg15</th>\n",
       "      <th>train</th>\n",
       "      <th>TIME_PERIOD</th>\n",
       "      <th>OBS_VALUE</th>\n",
       "      <th>New_train</th>\n",
       "      <th>New_DATAFLOW</th>\n",
       "    </tr>\n",
       "  </thead>\n",
       "  <tbody>\n",
       "    <tr>\n",
       "      <th>0</th>\n",
       "      <td>ESTAT:RAIL_TF_NS15_TR(1.0)</td>\n",
       "      <td>28/06/18 11:00:00</td>\n",
       "      <td>A</td>\n",
       "      <td>NR</td>\n",
       "      <td>Turkey</td>\n",
       "      <td>TRS10001_NOT_TEN</td>\n",
       "      <td>TRN_GD</td>\n",
       "      <td>2015</td>\n",
       "      <td>1</td>\n",
       "      <td>0</td>\n",
       "      <td>2.0</td>\n",
       "    </tr>\n",
       "    <tr>\n",
       "      <th>1</th>\n",
       "      <td>ESTAT:RAIL_TF_NS15_TR(1.0)</td>\n",
       "      <td>28/06/18 11:00:00</td>\n",
       "      <td>A</td>\n",
       "      <td>NR</td>\n",
       "      <td>Turkey</td>\n",
       "      <td>TRS10001_NOT_TEN</td>\n",
       "      <td>TRN_OTH</td>\n",
       "      <td>2015</td>\n",
       "      <td>0</td>\n",
       "      <td>1</td>\n",
       "      <td>2.0</td>\n",
       "    </tr>\n",
       "    <tr>\n",
       "      <th>2</th>\n",
       "      <td>ESTAT:RAIL_TF_NS15_TR(1.0)</td>\n",
       "      <td>28/06/18 11:00:00</td>\n",
       "      <td>A</td>\n",
       "      <td>NR</td>\n",
       "      <td>Turkey</td>\n",
       "      <td>TRS10001_NOT_TEN</td>\n",
       "      <td>TRN_PAS</td>\n",
       "      <td>2015</td>\n",
       "      <td>1760</td>\n",
       "      <td>2</td>\n",
       "      <td>2.0</td>\n",
       "    </tr>\n",
       "    <tr>\n",
       "      <th>3</th>\n",
       "      <td>ESTAT:RAIL_TF_NS15_TR(1.0)</td>\n",
       "      <td>28/06/18 11:00:00</td>\n",
       "      <td>A</td>\n",
       "      <td>NR</td>\n",
       "      <td>Turkey</td>\n",
       "      <td>TRS10002_NOT_TEN</td>\n",
       "      <td>TRN_GD</td>\n",
       "      <td>2015</td>\n",
       "      <td>520</td>\n",
       "      <td>0</td>\n",
       "      <td>2.0</td>\n",
       "    </tr>\n",
       "    <tr>\n",
       "      <th>4</th>\n",
       "      <td>ESTAT:RAIL_TF_NS15_TR(1.0)</td>\n",
       "      <td>28/06/18 11:00:00</td>\n",
       "      <td>A</td>\n",
       "      <td>NR</td>\n",
       "      <td>Turkey</td>\n",
       "      <td>TRS10002_NOT_TEN</td>\n",
       "      <td>TRN_OTH</td>\n",
       "      <td>2015</td>\n",
       "      <td>6</td>\n",
       "      <td>1</td>\n",
       "      <td>2.0</td>\n",
       "    </tr>\n",
       "    <tr>\n",
       "      <th>...</th>\n",
       "      <td>...</td>\n",
       "      <td>...</td>\n",
       "      <td>...</td>\n",
       "      <td>...</td>\n",
       "      <td>...</td>\n",
       "      <td>...</td>\n",
       "      <td>...</td>\n",
       "      <td>...</td>\n",
       "      <td>...</td>\n",
       "      <td>...</td>\n",
       "      <td>...</td>\n",
       "    </tr>\n",
       "    <tr>\n",
       "      <th>2311</th>\n",
       "      <td>ESTAT:RAIL_TF_NS20_IE(1.0)</td>\n",
       "      <td>2/2/2023 23:00</td>\n",
       "      <td>A</td>\n",
       "      <td>NR</td>\n",
       "      <td>Ireland</td>\n",
       "      <td>IES20026_TEN</td>\n",
       "      <td>TRN_GD</td>\n",
       "      <td>2020</td>\n",
       "      <td>0</td>\n",
       "      <td>0</td>\n",
       "      <td>NaN</td>\n",
       "    </tr>\n",
       "    <tr>\n",
       "      <th>2312</th>\n",
       "      <td>ESTAT:RAIL_TF_NS20_IE(1.0)</td>\n",
       "      <td>2/2/2023 23:00</td>\n",
       "      <td>A</td>\n",
       "      <td>NR</td>\n",
       "      <td>Ireland</td>\n",
       "      <td>IES20027_TEN</td>\n",
       "      <td>TRN_GD</td>\n",
       "      <td>2020</td>\n",
       "      <td>0</td>\n",
       "      <td>0</td>\n",
       "      <td>NaN</td>\n",
       "    </tr>\n",
       "    <tr>\n",
       "      <th>2313</th>\n",
       "      <td>ESTAT:RAIL_TF_NS20_IE(1.0)</td>\n",
       "      <td>2/2/2023 23:00</td>\n",
       "      <td>A</td>\n",
       "      <td>NR</td>\n",
       "      <td>Ireland</td>\n",
       "      <td>IES20028_TEN</td>\n",
       "      <td>TRN_PAS</td>\n",
       "      <td>2020</td>\n",
       "      <td>6499</td>\n",
       "      <td>2</td>\n",
       "      <td>NaN</td>\n",
       "    </tr>\n",
       "    <tr>\n",
       "      <th>2314</th>\n",
       "      <td>ESTAT:RAIL_TF_NS20_IE(1.0)</td>\n",
       "      <td>2/2/2023 23:00</td>\n",
       "      <td>A</td>\n",
       "      <td>NR</td>\n",
       "      <td>Ireland</td>\n",
       "      <td>IES20029_TEN</td>\n",
       "      <td>TRN_PAS</td>\n",
       "      <td>2020</td>\n",
       "      <td>5830</td>\n",
       "      <td>2</td>\n",
       "      <td>NaN</td>\n",
       "    </tr>\n",
       "    <tr>\n",
       "      <th>2315</th>\n",
       "      <td>ESTAT:RAIL_TF_NS20_IE(1.0)</td>\n",
       "      <td>2/2/2023 23:00</td>\n",
       "      <td>A</td>\n",
       "      <td>NR</td>\n",
       "      <td>Ireland</td>\n",
       "      <td>IES20030_TEN</td>\n",
       "      <td>TRN_PAS</td>\n",
       "      <td>2020</td>\n",
       "      <td>4219</td>\n",
       "      <td>2</td>\n",
       "      <td>NaN</td>\n",
       "    </tr>\n",
       "  </tbody>\n",
       "</table>\n",
       "<p>2316 rows × 11 columns</p>\n",
       "</div>"
      ],
      "text/plain": [
       "                        DATAFLOW        LAST UPDATE freq unit  country  \\\n",
       "0     ESTAT:RAIL_TF_NS15_TR(1.0)  28/06/18 11:00:00    A   NR   Turkey   \n",
       "1     ESTAT:RAIL_TF_NS15_TR(1.0)  28/06/18 11:00:00    A   NR   Turkey   \n",
       "2     ESTAT:RAIL_TF_NS15_TR(1.0)  28/06/18 11:00:00    A   NR   Turkey   \n",
       "3     ESTAT:RAIL_TF_NS15_TR(1.0)  28/06/18 11:00:00    A   NR   Turkey   \n",
       "4     ESTAT:RAIL_TF_NS15_TR(1.0)  28/06/18 11:00:00    A   NR   Turkey   \n",
       "...                          ...                ...  ...  ...      ...   \n",
       "2311  ESTAT:RAIL_TF_NS20_IE(1.0)     2/2/2023 23:00    A   NR  Ireland   \n",
       "2312  ESTAT:RAIL_TF_NS20_IE(1.0)     2/2/2023 23:00    A   NR  Ireland   \n",
       "2313  ESTAT:RAIL_TF_NS20_IE(1.0)     2/2/2023 23:00    A   NR  Ireland   \n",
       "2314  ESTAT:RAIL_TF_NS20_IE(1.0)     2/2/2023 23:00    A   NR  Ireland   \n",
       "2315  ESTAT:RAIL_TF_NS20_IE(1.0)     2/2/2023 23:00    A   NR  Ireland   \n",
       "\n",
       "             net_seg15    train  TIME_PERIOD  OBS_VALUE  New_train  \\\n",
       "0     TRS10001_NOT_TEN   TRN_GD         2015          1          0   \n",
       "1     TRS10001_NOT_TEN  TRN_OTH         2015          0          1   \n",
       "2     TRS10001_NOT_TEN  TRN_PAS         2015       1760          2   \n",
       "3     TRS10002_NOT_TEN   TRN_GD         2015        520          0   \n",
       "4     TRS10002_NOT_TEN  TRN_OTH         2015          6          1   \n",
       "...                ...      ...          ...        ...        ...   \n",
       "2311      IES20026_TEN   TRN_GD         2020          0          0   \n",
       "2312      IES20027_TEN   TRN_GD         2020          0          0   \n",
       "2313      IES20028_TEN  TRN_PAS         2020       6499          2   \n",
       "2314      IES20029_TEN  TRN_PAS         2020       5830          2   \n",
       "2315      IES20030_TEN  TRN_PAS         2020       4219          2   \n",
       "\n",
       "      New_DATAFLOW  \n",
       "0              2.0  \n",
       "1              2.0  \n",
       "2              2.0  \n",
       "3              2.0  \n",
       "4              2.0  \n",
       "...            ...  \n",
       "2311           NaN  \n",
       "2312           NaN  \n",
       "2313           NaN  \n",
       "2314           NaN  \n",
       "2315           NaN  \n",
       "\n",
       "[2316 rows x 11 columns]"
      ]
     },
     "execution_count": 22,
     "metadata": {},
     "output_type": "execute_result"
    }
   ],
   "source": [
    "##Converting a variable into an integer\n",
    "total_train['New_DATAFLOW'] = total_train['DATAFLOW'].map({'ESTAT:RAIL_TF_NS_TR(1.0)': 0, 'ESTAT:RAIL_TF_NS10_TR(1.0)': 1 , 'ESTAT:RAIL_TF_NS15_TR(1.0)': 2 , 'ESTAT:RAIL_TF_NS20_TR(1.0)': 3 })\n",
    "total_train"
   ]
  },
  {
   "cell_type": "code",
   "execution_count": 23,
   "id": "efa0660f-f0c3-44c6-a21f-56ecff4363d0",
   "metadata": {
    "tags": []
   },
   "outputs": [
    {
     "data": {
      "text/html": [
       "<div>\n",
       "<style scoped>\n",
       "    .dataframe tbody tr th:only-of-type {\n",
       "        vertical-align: middle;\n",
       "    }\n",
       "\n",
       "    .dataframe tbody tr th {\n",
       "        vertical-align: top;\n",
       "    }\n",
       "\n",
       "    .dataframe thead th {\n",
       "        text-align: right;\n",
       "    }\n",
       "</style>\n",
       "<table border=\"1\" class=\"dataframe\">\n",
       "  <thead>\n",
       "    <tr style=\"text-align: right;\">\n",
       "      <th></th>\n",
       "      <th>New_DATAFLOW</th>\n",
       "      <th>TIME_PERIOD</th>\n",
       "      <th>OBS_VALUE</th>\n",
       "      <th>New_train</th>\n",
       "    </tr>\n",
       "  </thead>\n",
       "  <tbody>\n",
       "    <tr>\n",
       "      <th>0</th>\n",
       "      <td>2.0</td>\n",
       "      <td>2015</td>\n",
       "      <td>1</td>\n",
       "      <td>0</td>\n",
       "    </tr>\n",
       "    <tr>\n",
       "      <th>1</th>\n",
       "      <td>2.0</td>\n",
       "      <td>2015</td>\n",
       "      <td>0</td>\n",
       "      <td>1</td>\n",
       "    </tr>\n",
       "    <tr>\n",
       "      <th>2</th>\n",
       "      <td>2.0</td>\n",
       "      <td>2015</td>\n",
       "      <td>1760</td>\n",
       "      <td>2</td>\n",
       "    </tr>\n",
       "    <tr>\n",
       "      <th>3</th>\n",
       "      <td>2.0</td>\n",
       "      <td>2015</td>\n",
       "      <td>520</td>\n",
       "      <td>0</td>\n",
       "    </tr>\n",
       "    <tr>\n",
       "      <th>4</th>\n",
       "      <td>2.0</td>\n",
       "      <td>2015</td>\n",
       "      <td>6</td>\n",
       "      <td>1</td>\n",
       "    </tr>\n",
       "    <tr>\n",
       "      <th>...</th>\n",
       "      <td>...</td>\n",
       "      <td>...</td>\n",
       "      <td>...</td>\n",
       "      <td>...</td>\n",
       "    </tr>\n",
       "    <tr>\n",
       "      <th>2311</th>\n",
       "      <td>NaN</td>\n",
       "      <td>2020</td>\n",
       "      <td>0</td>\n",
       "      <td>0</td>\n",
       "    </tr>\n",
       "    <tr>\n",
       "      <th>2312</th>\n",
       "      <td>NaN</td>\n",
       "      <td>2020</td>\n",
       "      <td>0</td>\n",
       "      <td>0</td>\n",
       "    </tr>\n",
       "    <tr>\n",
       "      <th>2313</th>\n",
       "      <td>NaN</td>\n",
       "      <td>2020</td>\n",
       "      <td>6499</td>\n",
       "      <td>2</td>\n",
       "    </tr>\n",
       "    <tr>\n",
       "      <th>2314</th>\n",
       "      <td>NaN</td>\n",
       "      <td>2020</td>\n",
       "      <td>5830</td>\n",
       "      <td>2</td>\n",
       "    </tr>\n",
       "    <tr>\n",
       "      <th>2315</th>\n",
       "      <td>NaN</td>\n",
       "      <td>2020</td>\n",
       "      <td>4219</td>\n",
       "      <td>2</td>\n",
       "    </tr>\n",
       "  </tbody>\n",
       "</table>\n",
       "<p>2316 rows × 4 columns</p>\n",
       "</div>"
      ],
      "text/plain": [
       "      New_DATAFLOW  TIME_PERIOD  OBS_VALUE  New_train\n",
       "0              2.0         2015          1          0\n",
       "1              2.0         2015          0          1\n",
       "2              2.0         2015       1760          2\n",
       "3              2.0         2015        520          0\n",
       "4              2.0         2015          6          1\n",
       "...            ...          ...        ...        ...\n",
       "2311           NaN         2020          0          0\n",
       "2312           NaN         2020          0          0\n",
       "2313           NaN         2020       6499          2\n",
       "2314           NaN         2020       5830          2\n",
       "2315           NaN         2020       4219          2\n",
       "\n",
       "[2316 rows x 4 columns]"
      ]
     },
     "execution_count": 23,
     "metadata": {},
     "output_type": "execute_result"
    }
   ],
   "source": [
    "# Choose Using features\n",
    "total_train = total_train[['New_DATAFLOW','TIME_PERIOD', 'OBS_VALUE', 'New_train']]\n",
    "total_train"
   ]
  },
  {
   "cell_type": "code",
   "execution_count": 24,
   "id": "be0cd4f7-e279-4423-a44a-02cdfaf79940",
   "metadata": {
    "tags": []
   },
   "outputs": [
    {
     "data": {
      "image/png": "[encoded data removed]",
      "text/plain": [
       "<Figure size 1200x800 with 2 Axes>"
      ]
     },
     "metadata": {},
     "output_type": "display_data"
    }
   ],
   "source": [
    "# Correlation matrix visualization\n",
    "correlation_matrix = total_train.corr()\n",
    "plt.figure(figsize=(12, 8))\n",
    "sns.heatmap(correlation_matrix, annot=True, cmap='coolwarm', fmt=\".2f\")\n",
    "plt.title('Ireland Correlation Matrix')\n",
    "plt.show()"
   ]
  },
  {
   "cell_type": "code",
   "execution_count": 25,
   "id": "1d996107-b6d1-4b36-8e11-bb2df2a706a5",
   "metadata": {
    "tags": []
   },
   "outputs": [
    {
     "name": "stdout",
     "output_type": "stream",
     "text": [
      "Confidence Interval Turkiye: (605.6659858766791, 1970.4048953493746)\n",
      "Confidence Interval Irlanda: (3179.476126344122, 4550.734399971667)\n"
     ]
    }
   ],
   "source": [
    "tr = pd.DataFrame(tr)\n",
    "irl=pd.DataFrame(irl)\n",
    "\n",
    "# Select the variable whose confidence interval you want to calculate (e.g. 'OBS_VALUE')\n",
    "variable_of_interest = 'OBS_VALUE'\n",
    "data_of_interest_tr = tr[variable_of_interest]\n",
    "data_of_interest_irl = irl[variable_of_interest]\n",
    "\n",
    "\n",
    "# Calculate confidence interval\n",
    "confidence_interval_tr = stats.t.interval(0.95, len(data_of_interest_tr)-1, loc=np.mean(data_of_interest_tr), scale=stats.sem(data_of_interest_irl))\n",
    "confidence_interval_irl = stats.t.interval(0.95, len(data_of_interest_irl)-1, loc=np.mean(data_of_interest_irl), scale=stats.sem(data_of_interest_irl))\n",
    "\n",
    "print(f\"Confidence Interval Turkiye: {confidence_interval_tr}\")\n",
    "print(f\"Confidence Interval Irlanda: {confidence_interval_irl}\")"
   ]
  },
  {
   "cell_type": "code",
   "execution_count": 28,
   "id": "177f1b14-82dc-4da1-ae0f-c31aaed73d80",
   "metadata": {},
   "outputs": [
    {
     "data": {
      "text/html": [
       "<div>\n",
       "<style scoped>\n",
       "    .dataframe tbody tr th:only-of-type {\n",
       "        vertical-align: middle;\n",
       "    }\n",
       "\n",
       "    .dataframe tbody tr th {\n",
       "        vertical-align: top;\n",
       "    }\n",
       "\n",
       "    .dataframe thead th {\n",
       "        text-align: right;\n",
       "    }\n",
       "</style>\n",
       "<table border=\"1\" class=\"dataframe\">\n",
       "  <thead>\n",
       "    <tr style=\"text-align: right;\">\n",
       "      <th></th>\n",
       "      <th>DATAFLOW</th>\n",
       "      <th>date</th>\n",
       "      <th>unit</th>\n",
       "      <th>net_seg15</th>\n",
       "      <th>train</th>\n",
       "      <th>TIME_PERIOD</th>\n",
       "      <th>OBS_VALUE</th>\n",
       "      <th>New_train</th>\n",
       "    </tr>\n",
       "  </thead>\n",
       "  <tbody>\n",
       "    <tr>\n",
       "      <th>0</th>\n",
       "      <td>ESTAT:RAIL_TF_NS15_TR(1.0)</td>\n",
       "      <td>28/06/18</td>\n",
       "      <td>NR</td>\n",
       "      <td>TRS10001_NOT_TEN</td>\n",
       "      <td>TRN_GD</td>\n",
       "      <td>2015</td>\n",
       "      <td>1</td>\n",
       "      <td>0</td>\n",
       "    </tr>\n",
       "    <tr>\n",
       "      <th>1</th>\n",
       "      <td>ESTAT:RAIL_TF_NS15_TR(1.0)</td>\n",
       "      <td>28/06/18</td>\n",
       "      <td>NR</td>\n",
       "      <td>TRS10001_NOT_TEN</td>\n",
       "      <td>TRN_OTH</td>\n",
       "      <td>2015</td>\n",
       "      <td>0</td>\n",
       "      <td>1</td>\n",
       "    </tr>\n",
       "    <tr>\n",
       "      <th>2</th>\n",
       "      <td>ESTAT:RAIL_TF_NS15_TR(1.0)</td>\n",
       "      <td>28/06/18</td>\n",
       "      <td>NR</td>\n",
       "      <td>TRS10001_NOT_TEN</td>\n",
       "      <td>TRN_PAS</td>\n",
       "      <td>2015</td>\n",
       "      <td>1760</td>\n",
       "      <td>2</td>\n",
       "    </tr>\n",
       "    <tr>\n",
       "      <th>3</th>\n",
       "      <td>ESTAT:RAIL_TF_NS15_TR(1.0)</td>\n",
       "      <td>28/06/18</td>\n",
       "      <td>NR</td>\n",
       "      <td>TRS10002_NOT_TEN</td>\n",
       "      <td>TRN_GD</td>\n",
       "      <td>2015</td>\n",
       "      <td>520</td>\n",
       "      <td>0</td>\n",
       "    </tr>\n",
       "    <tr>\n",
       "      <th>4</th>\n",
       "      <td>ESTAT:RAIL_TF_NS15_TR(1.0)</td>\n",
       "      <td>28/06/18</td>\n",
       "      <td>NR</td>\n",
       "      <td>TRS10002_NOT_TEN</td>\n",
       "      <td>TRN_OTH</td>\n",
       "      <td>2015</td>\n",
       "      <td>6</td>\n",
       "      <td>1</td>\n",
       "    </tr>\n",
       "    <tr>\n",
       "      <th>...</th>\n",
       "      <td>...</td>\n",
       "      <td>...</td>\n",
       "      <td>...</td>\n",
       "      <td>...</td>\n",
       "      <td>...</td>\n",
       "      <td>...</td>\n",
       "      <td>...</td>\n",
       "      <td>...</td>\n",
       "    </tr>\n",
       "    <tr>\n",
       "      <th>2083</th>\n",
       "      <td>ESTAT:RAIL_TF_NS20_TR(1.0)</td>\n",
       "      <td>2/2/2023 0:00</td>\n",
       "      <td>NR</td>\n",
       "      <td>TRS20103_NOT_TEN</td>\n",
       "      <td>TRN_PAS</td>\n",
       "      <td>2020</td>\n",
       "      <td>2920</td>\n",
       "      <td>2</td>\n",
       "    </tr>\n",
       "    <tr>\n",
       "      <th>2084</th>\n",
       "      <td>ESTAT:RAIL_TF_NS20_TR(1.0)</td>\n",
       "      <td>2/2/2023 0:00</td>\n",
       "      <td>NR</td>\n",
       "      <td>TRS20104_NOT_TEN</td>\n",
       "      <td>TRN_GD</td>\n",
       "      <td>2020</td>\n",
       "      <td>9</td>\n",
       "      <td>0</td>\n",
       "    </tr>\n",
       "    <tr>\n",
       "      <th>2085</th>\n",
       "      <td>ESTAT:RAIL_TF_NS20_TR(1.0)</td>\n",
       "      <td>2/2/2023 0:00</td>\n",
       "      <td>NR</td>\n",
       "      <td>TRS20104_NOT_TEN</td>\n",
       "      <td>TRN_OTH</td>\n",
       "      <td>2020</td>\n",
       "      <td>27</td>\n",
       "      <td>1</td>\n",
       "    </tr>\n",
       "    <tr>\n",
       "      <th>2086</th>\n",
       "      <td>ESTAT:RAIL_TF_NS20_TR(1.0)</td>\n",
       "      <td>2/2/2023 0:00</td>\n",
       "      <td>NR</td>\n",
       "      <td>TRS20104_NOT_TEN</td>\n",
       "      <td>TRN_PAS</td>\n",
       "      <td>2020</td>\n",
       "      <td>2846</td>\n",
       "      <td>2</td>\n",
       "    </tr>\n",
       "    <tr>\n",
       "      <th>2087</th>\n",
       "      <td>ESTAT:RAIL_TF_NS20_TR(1.0)</td>\n",
       "      <td>2/2/2023 0:00</td>\n",
       "      <td>NR</td>\n",
       "      <td>TRS20105_NOT_TEN</td>\n",
       "      <td>TRN_PAS</td>\n",
       "      <td>2020</td>\n",
       "      <td>40149</td>\n",
       "      <td>2</td>\n",
       "    </tr>\n",
       "  </tbody>\n",
       "</table>\n",
       "<p>2088 rows × 8 columns</p>\n",
       "</div>"
      ],
      "text/plain": [
       "                        DATAFLOW           date unit         net_seg15  \\\n",
       "0     ESTAT:RAIL_TF_NS15_TR(1.0)       28/06/18   NR  TRS10001_NOT_TEN   \n",
       "1     ESTAT:RAIL_TF_NS15_TR(1.0)       28/06/18   NR  TRS10001_NOT_TEN   \n",
       "2     ESTAT:RAIL_TF_NS15_TR(1.0)       28/06/18   NR  TRS10001_NOT_TEN   \n",
       "3     ESTAT:RAIL_TF_NS15_TR(1.0)       28/06/18   NR  TRS10002_NOT_TEN   \n",
       "4     ESTAT:RAIL_TF_NS15_TR(1.0)       28/06/18   NR  TRS10002_NOT_TEN   \n",
       "...                          ...            ...  ...               ...   \n",
       "2083  ESTAT:RAIL_TF_NS20_TR(1.0)  2/2/2023 0:00   NR  TRS20103_NOT_TEN   \n",
       "2084  ESTAT:RAIL_TF_NS20_TR(1.0)  2/2/2023 0:00   NR  TRS20104_NOT_TEN   \n",
       "2085  ESTAT:RAIL_TF_NS20_TR(1.0)  2/2/2023 0:00   NR  TRS20104_NOT_TEN   \n",
       "2086  ESTAT:RAIL_TF_NS20_TR(1.0)  2/2/2023 0:00   NR  TRS20104_NOT_TEN   \n",
       "2087  ESTAT:RAIL_TF_NS20_TR(1.0)  2/2/2023 0:00   NR  TRS20105_NOT_TEN   \n",
       "\n",
       "        train  TIME_PERIOD  OBS_VALUE  New_train  \n",
       "0      TRN_GD         2015          1          0  \n",
       "1     TRN_OTH         2015          0          1  \n",
       "2     TRN_PAS         2015       1760          2  \n",
       "3      TRN_GD         2015        520          0  \n",
       "4     TRN_OTH         2015          6          1  \n",
       "...       ...          ...        ...        ...  \n",
       "2083  TRN_PAS         2020       2920          2  \n",
       "2084   TRN_GD         2020          9          0  \n",
       "2085  TRN_OTH         2020         27          1  \n",
       "2086  TRN_PAS         2020       2846          2  \n",
       "2087  TRN_PAS         2020      40149          2  \n",
       "\n",
       "[2088 rows x 8 columns]"
      ]
     },
     "execution_count": 28,
     "metadata": {},
     "output_type": "execute_result"
    }
   ],
   "source": [
    "##Converting a variable into an integer\n",
    "tr['New_train'] =tr['train'].map({'TRN_GD': 0, 'TRN_OTH': 1 , 'TRN_PAS': 2})\n",
    "tr"
   ]
  },
  {
   "cell_type": "code",
   "execution_count": 29,
   "id": "658906f6-759a-423e-ba74-10b042b29c3a",
   "metadata": {
    "tags": []
   },
   "outputs": [
    {
     "name": "stdout",
     "output_type": "stream",
     "text": [
      "Turkiye T-Test Statistic: -5.9153136968269475\n",
      "Turkiye P-Value: 4.1656635147989164e-09\n"
     ]
    }
   ],
   "source": [
    "#T-Test:\n",
    "group1 = tr['OBS_VALUE'][tr['New_train'] == 0]\n",
    "group2 = tr['OBS_VALUE'][tr['New_train'] == 2]\n",
    "\n",
    "t_statistic, p_value = ttest_ind(group1, group2)\n",
    "print(f\"Turkiye T-Test Statistic: {t_statistic}\")\n",
    "print(f\"Turkiye P-Value: {p_value}\")"
   ]
  },
  {
   "cell_type": "code",
   "execution_count": 30,
   "id": "24436a1d-ea00-455e-89b7-4b598d6348a2",
   "metadata": {
    "tags": []
   },
   "outputs": [
    {
     "data": {
      "text/html": [
       "<div>\n",
       "<style scoped>\n",
       "    .dataframe tbody tr th:only-of-type {\n",
       "        vertical-align: middle;\n",
       "    }\n",
       "\n",
       "    .dataframe tbody tr th {\n",
       "        vertical-align: top;\n",
       "    }\n",
       "\n",
       "    .dataframe thead th {\n",
       "        text-align: right;\n",
       "    }\n",
       "</style>\n",
       "<table border=\"1\" class=\"dataframe\">\n",
       "  <thead>\n",
       "    <tr style=\"text-align: right;\">\n",
       "      <th></th>\n",
       "      <th>DATAFLOW</th>\n",
       "      <th>date</th>\n",
       "      <th>freq</th>\n",
       "      <th>unit</th>\n",
       "      <th>country</th>\n",
       "      <th>net_seg15</th>\n",
       "      <th>train</th>\n",
       "      <th>TIME_PERIOD</th>\n",
       "      <th>OBS_VALUE</th>\n",
       "      <th>New_train</th>\n",
       "    </tr>\n",
       "  </thead>\n",
       "  <tbody>\n",
       "    <tr>\n",
       "      <th>0</th>\n",
       "      <td>ESTAT:RAIL_TF_NS10_IE(1.0)</td>\n",
       "      <td>31/03/17 23:00:00</td>\n",
       "      <td>A</td>\n",
       "      <td>NR</td>\n",
       "      <td>Ireland</td>\n",
       "      <td>IES10001_TEN</td>\n",
       "      <td>TRN_PAS</td>\n",
       "      <td>2010</td>\n",
       "      <td>9650</td>\n",
       "      <td>2</td>\n",
       "    </tr>\n",
       "    <tr>\n",
       "      <th>1</th>\n",
       "      <td>ESTAT:RAIL_TF_NS10_IE(1.0)</td>\n",
       "      <td>31/03/17 23:00:00</td>\n",
       "      <td>A</td>\n",
       "      <td>NR</td>\n",
       "      <td>Ireland</td>\n",
       "      <td>IES10002_TEN</td>\n",
       "      <td>TRN_PAS</td>\n",
       "      <td>2010</td>\n",
       "      <td>12914</td>\n",
       "      <td>2</td>\n",
       "    </tr>\n",
       "    <tr>\n",
       "      <th>2</th>\n",
       "      <td>ESTAT:RAIL_TF_NS10_IE(1.0)</td>\n",
       "      <td>31/03/17 23:00:00</td>\n",
       "      <td>A</td>\n",
       "      <td>NR</td>\n",
       "      <td>Ireland</td>\n",
       "      <td>IES10003_TEN</td>\n",
       "      <td>TRN_PAS</td>\n",
       "      <td>2010</td>\n",
       "      <td>3467</td>\n",
       "      <td>2</td>\n",
       "    </tr>\n",
       "    <tr>\n",
       "      <th>3</th>\n",
       "      <td>ESTAT:RAIL_TF_NS10_IE(1.0)</td>\n",
       "      <td>31/03/17 23:00:00</td>\n",
       "      <td>A</td>\n",
       "      <td>NR</td>\n",
       "      <td>Ireland</td>\n",
       "      <td>IES10004_TEN</td>\n",
       "      <td>TRN_PAS</td>\n",
       "      <td>2010</td>\n",
       "      <td>2177</td>\n",
       "      <td>2</td>\n",
       "    </tr>\n",
       "    <tr>\n",
       "      <th>4</th>\n",
       "      <td>ESTAT:RAIL_TF_NS10_IE(1.0)</td>\n",
       "      <td>31/03/17 23:00:00</td>\n",
       "      <td>A</td>\n",
       "      <td>NR</td>\n",
       "      <td>Ireland</td>\n",
       "      <td>IES10005_TEN</td>\n",
       "      <td>TRN_PAS</td>\n",
       "      <td>2010</td>\n",
       "      <td>2743</td>\n",
       "      <td>2</td>\n",
       "    </tr>\n",
       "    <tr>\n",
       "      <th>...</th>\n",
       "      <td>...</td>\n",
       "      <td>...</td>\n",
       "      <td>...</td>\n",
       "      <td>...</td>\n",
       "      <td>...</td>\n",
       "      <td>...</td>\n",
       "      <td>...</td>\n",
       "      <td>...</td>\n",
       "      <td>...</td>\n",
       "      <td>...</td>\n",
       "    </tr>\n",
       "    <tr>\n",
       "      <th>223</th>\n",
       "      <td>ESTAT:RAIL_TF_NS20_IE(1.0)</td>\n",
       "      <td>2/2/2023 23:00</td>\n",
       "      <td>A</td>\n",
       "      <td>NR</td>\n",
       "      <td>Ireland</td>\n",
       "      <td>IES20026_TEN</td>\n",
       "      <td>TRN_GD</td>\n",
       "      <td>2020</td>\n",
       "      <td>0</td>\n",
       "      <td>0</td>\n",
       "    </tr>\n",
       "    <tr>\n",
       "      <th>224</th>\n",
       "      <td>ESTAT:RAIL_TF_NS20_IE(1.0)</td>\n",
       "      <td>2/2/2023 23:00</td>\n",
       "      <td>A</td>\n",
       "      <td>NR</td>\n",
       "      <td>Ireland</td>\n",
       "      <td>IES20027_TEN</td>\n",
       "      <td>TRN_GD</td>\n",
       "      <td>2020</td>\n",
       "      <td>0</td>\n",
       "      <td>0</td>\n",
       "    </tr>\n",
       "    <tr>\n",
       "      <th>225</th>\n",
       "      <td>ESTAT:RAIL_TF_NS20_IE(1.0)</td>\n",
       "      <td>2/2/2023 23:00</td>\n",
       "      <td>A</td>\n",
       "      <td>NR</td>\n",
       "      <td>Ireland</td>\n",
       "      <td>IES20028_TEN</td>\n",
       "      <td>TRN_PAS</td>\n",
       "      <td>2020</td>\n",
       "      <td>6499</td>\n",
       "      <td>2</td>\n",
       "    </tr>\n",
       "    <tr>\n",
       "      <th>226</th>\n",
       "      <td>ESTAT:RAIL_TF_NS20_IE(1.0)</td>\n",
       "      <td>2/2/2023 23:00</td>\n",
       "      <td>A</td>\n",
       "      <td>NR</td>\n",
       "      <td>Ireland</td>\n",
       "      <td>IES20029_TEN</td>\n",
       "      <td>TRN_PAS</td>\n",
       "      <td>2020</td>\n",
       "      <td>5830</td>\n",
       "      <td>2</td>\n",
       "    </tr>\n",
       "    <tr>\n",
       "      <th>227</th>\n",
       "      <td>ESTAT:RAIL_TF_NS20_IE(1.0)</td>\n",
       "      <td>2/2/2023 23:00</td>\n",
       "      <td>A</td>\n",
       "      <td>NR</td>\n",
       "      <td>Ireland</td>\n",
       "      <td>IES20030_TEN</td>\n",
       "      <td>TRN_PAS</td>\n",
       "      <td>2020</td>\n",
       "      <td>4219</td>\n",
       "      <td>2</td>\n",
       "    </tr>\n",
       "  </tbody>\n",
       "</table>\n",
       "<p>228 rows × 10 columns</p>\n",
       "</div>"
      ],
      "text/plain": [
       "                       DATAFLOW               date freq unit  country  \\\n",
       "0    ESTAT:RAIL_TF_NS10_IE(1.0)  31/03/17 23:00:00    A   NR  Ireland   \n",
       "1    ESTAT:RAIL_TF_NS10_IE(1.0)  31/03/17 23:00:00    A   NR  Ireland   \n",
       "2    ESTAT:RAIL_TF_NS10_IE(1.0)  31/03/17 23:00:00    A   NR  Ireland   \n",
       "3    ESTAT:RAIL_TF_NS10_IE(1.0)  31/03/17 23:00:00    A   NR  Ireland   \n",
       "4    ESTAT:RAIL_TF_NS10_IE(1.0)  31/03/17 23:00:00    A   NR  Ireland   \n",
       "..                          ...                ...  ...  ...      ...   \n",
       "223  ESTAT:RAIL_TF_NS20_IE(1.0)     2/2/2023 23:00    A   NR  Ireland   \n",
       "224  ESTAT:RAIL_TF_NS20_IE(1.0)     2/2/2023 23:00    A   NR  Ireland   \n",
       "225  ESTAT:RAIL_TF_NS20_IE(1.0)     2/2/2023 23:00    A   NR  Ireland   \n",
       "226  ESTAT:RAIL_TF_NS20_IE(1.0)     2/2/2023 23:00    A   NR  Ireland   \n",
       "227  ESTAT:RAIL_TF_NS20_IE(1.0)     2/2/2023 23:00    A   NR  Ireland   \n",
       "\n",
       "        net_seg15    train  TIME_PERIOD  OBS_VALUE  New_train  \n",
       "0    IES10001_TEN  TRN_PAS         2010       9650          2  \n",
       "1    IES10002_TEN  TRN_PAS         2010      12914          2  \n",
       "2    IES10003_TEN  TRN_PAS         2010       3467          2  \n",
       "3    IES10004_TEN  TRN_PAS         2010       2177          2  \n",
       "4    IES10005_TEN  TRN_PAS         2010       2743          2  \n",
       "..            ...      ...          ...        ...        ...  \n",
       "223  IES20026_TEN   TRN_GD         2020          0          0  \n",
       "224  IES20027_TEN   TRN_GD         2020          0          0  \n",
       "225  IES20028_TEN  TRN_PAS         2020       6499          2  \n",
       "226  IES20029_TEN  TRN_PAS         2020       5830          2  \n",
       "227  IES20030_TEN  TRN_PAS         2020       4219          2  \n",
       "\n",
       "[228 rows x 10 columns]"
      ]
     },
     "execution_count": 30,
     "metadata": {},
     "output_type": "execute_result"
    }
   ],
   "source": [
    "##Converting a variable into an integer\n",
    "irl['New_train'] =irl['train'].map({'TRN_GD': 0, 'TRN_OTH': 1 , 'TRN_PAS': 2})\n",
    "irl"
   ]
  },
  {
   "cell_type": "code",
   "execution_count": 31,
   "id": "6fa7f64f-613e-4bf3-bac1-240b4a6c34c7",
   "metadata": {
    "tags": []
   },
   "outputs": [
    {
     "name": "stdout",
     "output_type": "stream",
     "text": [
      "Ireland T-Test Statistic: -10.125079900510945\n",
      "Ireland P-Value: 4.133932867728425e-20\n"
     ]
    }
   ],
   "source": [
    "#T-Test:\n",
    "group1 = irl['OBS_VALUE'][irl['New_train'] == 0]\n",
    "group2 = irl['OBS_VALUE'][irl['New_train'] == 2]\n",
    "\n",
    "t_statistic, p_value = ttest_ind(group1, group2)\n",
    "print(f\"Ireland T-Test Statistic: {t_statistic}\")\n",
    "print(f\"Ireland P-Value: {p_value}\")"
   ]
  },
  {
   "cell_type": "code",
   "execution_count": 32,
   "id": "f14c0764-2d3a-46de-9fdf-d7b384882c9e",
   "metadata": {
    "tags": []
   },
   "outputs": [
    {
     "name": "stdout",
     "output_type": "stream",
     "text": [
      "Turkiye ANOVA Statistic: 11.086392171498096\n",
      "Turkiye P-Value: 0.000910165159571391\n"
     ]
    }
   ],
   "source": [
    "#Analysis of Variance (ANOVA):\n",
    "# Sample data frame\n",
    "group0 = tr['OBS_VALUE'][tr['New_train'] == 0]\n",
    "group2 = tr['OBS_VALUE'][tr['New_train'] == 2]\n",
    "\n",
    "# ANOVA\n",
    "f_statistic, p_value = f_oneway(group1, group2)\n",
    "\n",
    "print(f\"Turkiye ANOVA Statistic: {f_statistic}\")\n",
    "print(f\"Turkiye P-Value: {p_value}\")"
   ]
  },
  {
   "cell_type": "code",
   "execution_count": 33,
   "id": "0ace7386-22e9-47f2-8958-15d1aaa044df",
   "metadata": {
    "tags": []
   },
   "outputs": [
    {
     "name": "stdout",
     "output_type": "stream",
     "text": [
      "Ireland ANOVA Statistic: 102.51724299173065\n",
      "Ireland P-Value: 4.133932867728579e-20\n"
     ]
    }
   ],
   "source": [
    "#Analysis of Variance (ANOVA):\n",
    "\n",
    "# Sample data frame\n",
    "group0 = irl['OBS_VALUE'][irl['New_train'] == 0]\n",
    "group2 = irl['OBS_VALUE'][irl['New_train'] == 2]\n",
    "\n",
    "# ANOVA\n",
    "f_statistic, p_value = f_oneway(group1, group2)\n",
    "\n",
    "print(f\"Ireland ANOVA Statistic: {f_statistic}\")\n",
    "print(f\"Ireland P-Value: {p_value}\")"
   ]
  },
  {
   "cell_type": "code",
   "execution_count": 34,
   "id": "3cf7f116-3c33-403e-ac17-56bb0f710a16",
   "metadata": {
    "tags": []
   },
   "outputs": [
    {
     "name": "stdout",
     "output_type": "stream",
     "text": [
      "Turkiye Wilcoxon İstatistiği: 108468.5\n",
      "Turkiye P-değeri: 0.36133689580650896\n"
     ]
    }
   ],
   "source": [
    "# Wilcoxon test\n",
    "\n",
    "# Sample data frame\n",
    "before = tr['OBS_VALUE'][tr['New_train'] == 0]\n",
    "after = tr['OBS_VALUE'][tr['New_train'] == 2]\n",
    "\n",
    "# Check step: Check group lengths\n",
    "if len(before) != len(after):\n",
    "    # If lengths are not equal, merge groups by taking minimum length\n",
    "    min_len = min(len(before), len(after))\n",
    "    before = before[:min_len]\n",
    "    after = after[:min_len]\n",
    "\n",
    "# Wilcoxon test\n",
    "statistic, p_value = wilcoxon(before, after)\n",
    "\n",
    "print(f\"Turkiye Wilcoxon Statistic: {statistic}\")\n",
    "print(f\"Turkiye P-Value: {p_value}\")"
   ]
  },
  {
   "cell_type": "code",
   "execution_count": 35,
   "id": "cc7d8ecf-c907-4084-bf39-1f89257a74e1",
   "metadata": {
    "tags": []
   },
   "outputs": [
    {
     "name": "stdout",
     "output_type": "stream",
     "text": [
      "Ireland Wilcoxon İstatistiği: 0.0\n",
      "Ireland P-değeri: 3.7301110259385026e-16\n"
     ]
    }
   ],
   "source": [
    "# Wilcoxon testi\n",
    "\n",
    "# Sample data frame\n",
    "before = irl['OBS_VALUE'][irl['New_train'] == 0]\n",
    "after = irl['OBS_VALUE'][irl['New_train'] == 2]\n",
    "\n",
    "# Check step: Check group lengths\n",
    "if len(before) != len(after):\n",
    "    # If lengths are not equal, merge groups by taking minimum length\n",
    "    min_len = min(len(before), len(after))\n",
    "    before = before[:min_len]\n",
    "    after = after[:min_len]\n",
    "\n",
    "# Wilcoxon testi\n",
    "statistic, p_value = wilcoxon(before, after)\n",
    "\n",
    "print(f\"Ireland Wilcoxon Statistic: {statistic}\")\n",
    "print(f\"Ireland P-Value: {p_value}\")"
   ]
  },
  {
   "cell_type": "code",
   "execution_count": 36,
   "id": "1da084af-e15a-4b18-b6d3-801ca9365b11",
   "metadata": {
    "tags": []
   },
   "outputs": [
    {
     "data": {
      "text/html": [
       "<div>\n",
       "<style scoped>\n",
       "    .dataframe tbody tr th:only-of-type {\n",
       "        vertical-align: middle;\n",
       "    }\n",
       "\n",
       "    .dataframe tbody tr th {\n",
       "        vertical-align: top;\n",
       "    }\n",
       "\n",
       "    .dataframe thead th {\n",
       "        text-align: right;\n",
       "    }\n",
       "</style>\n",
       "<table border=\"1\" class=\"dataframe\">\n",
       "  <thead>\n",
       "    <tr style=\"text-align: right;\">\n",
       "      <th></th>\n",
       "      <th>DATAFLOW</th>\n",
       "      <th>date</th>\n",
       "      <th>unit</th>\n",
       "      <th>net_seg15</th>\n",
       "      <th>train</th>\n",
       "      <th>TIME_PERIOD</th>\n",
       "      <th>OBS_VALUE</th>\n",
       "      <th>New_train</th>\n",
       "      <th>New_DATAFLOW</th>\n",
       "    </tr>\n",
       "  </thead>\n",
       "  <tbody>\n",
       "    <tr>\n",
       "      <th>0</th>\n",
       "      <td>ESTAT:RAIL_TF_NS15_TR(1.0)</td>\n",
       "      <td>28/06/18</td>\n",
       "      <td>NR</td>\n",
       "      <td>TRS10001_NOT_TEN</td>\n",
       "      <td>TRN_GD</td>\n",
       "      <td>2015</td>\n",
       "      <td>1</td>\n",
       "      <td>0</td>\n",
       "      <td>2</td>\n",
       "    </tr>\n",
       "    <tr>\n",
       "      <th>1</th>\n",
       "      <td>ESTAT:RAIL_TF_NS15_TR(1.0)</td>\n",
       "      <td>28/06/18</td>\n",
       "      <td>NR</td>\n",
       "      <td>TRS10001_NOT_TEN</td>\n",
       "      <td>TRN_OTH</td>\n",
       "      <td>2015</td>\n",
       "      <td>0</td>\n",
       "      <td>1</td>\n",
       "      <td>2</td>\n",
       "    </tr>\n",
       "    <tr>\n",
       "      <th>2</th>\n",
       "      <td>ESTAT:RAIL_TF_NS15_TR(1.0)</td>\n",
       "      <td>28/06/18</td>\n",
       "      <td>NR</td>\n",
       "      <td>TRS10001_NOT_TEN</td>\n",
       "      <td>TRN_PAS</td>\n",
       "      <td>2015</td>\n",
       "      <td>1760</td>\n",
       "      <td>2</td>\n",
       "      <td>2</td>\n",
       "    </tr>\n",
       "    <tr>\n",
       "      <th>3</th>\n",
       "      <td>ESTAT:RAIL_TF_NS15_TR(1.0)</td>\n",
       "      <td>28/06/18</td>\n",
       "      <td>NR</td>\n",
       "      <td>TRS10002_NOT_TEN</td>\n",
       "      <td>TRN_GD</td>\n",
       "      <td>2015</td>\n",
       "      <td>520</td>\n",
       "      <td>0</td>\n",
       "      <td>2</td>\n",
       "    </tr>\n",
       "    <tr>\n",
       "      <th>4</th>\n",
       "      <td>ESTAT:RAIL_TF_NS15_TR(1.0)</td>\n",
       "      <td>28/06/18</td>\n",
       "      <td>NR</td>\n",
       "      <td>TRS10002_NOT_TEN</td>\n",
       "      <td>TRN_OTH</td>\n",
       "      <td>2015</td>\n",
       "      <td>6</td>\n",
       "      <td>1</td>\n",
       "      <td>2</td>\n",
       "    </tr>\n",
       "    <tr>\n",
       "      <th>...</th>\n",
       "      <td>...</td>\n",
       "      <td>...</td>\n",
       "      <td>...</td>\n",
       "      <td>...</td>\n",
       "      <td>...</td>\n",
       "      <td>...</td>\n",
       "      <td>...</td>\n",
       "      <td>...</td>\n",
       "      <td>...</td>\n",
       "    </tr>\n",
       "    <tr>\n",
       "      <th>2083</th>\n",
       "      <td>ESTAT:RAIL_TF_NS20_TR(1.0)</td>\n",
       "      <td>2/2/2023 0:00</td>\n",
       "      <td>NR</td>\n",
       "      <td>TRS20103_NOT_TEN</td>\n",
       "      <td>TRN_PAS</td>\n",
       "      <td>2020</td>\n",
       "      <td>2920</td>\n",
       "      <td>2</td>\n",
       "      <td>3</td>\n",
       "    </tr>\n",
       "    <tr>\n",
       "      <th>2084</th>\n",
       "      <td>ESTAT:RAIL_TF_NS20_TR(1.0)</td>\n",
       "      <td>2/2/2023 0:00</td>\n",
       "      <td>NR</td>\n",
       "      <td>TRS20104_NOT_TEN</td>\n",
       "      <td>TRN_GD</td>\n",
       "      <td>2020</td>\n",
       "      <td>9</td>\n",
       "      <td>0</td>\n",
       "      <td>3</td>\n",
       "    </tr>\n",
       "    <tr>\n",
       "      <th>2085</th>\n",
       "      <td>ESTAT:RAIL_TF_NS20_TR(1.0)</td>\n",
       "      <td>2/2/2023 0:00</td>\n",
       "      <td>NR</td>\n",
       "      <td>TRS20104_NOT_TEN</td>\n",
       "      <td>TRN_OTH</td>\n",
       "      <td>2020</td>\n",
       "      <td>27</td>\n",
       "      <td>1</td>\n",
       "      <td>3</td>\n",
       "    </tr>\n",
       "    <tr>\n",
       "      <th>2086</th>\n",
       "      <td>ESTAT:RAIL_TF_NS20_TR(1.0)</td>\n",
       "      <td>2/2/2023 0:00</td>\n",
       "      <td>NR</td>\n",
       "      <td>TRS20104_NOT_TEN</td>\n",
       "      <td>TRN_PAS</td>\n",
       "      <td>2020</td>\n",
       "      <td>2846</td>\n",
       "      <td>2</td>\n",
       "      <td>3</td>\n",
       "    </tr>\n",
       "    <tr>\n",
       "      <th>2087</th>\n",
       "      <td>ESTAT:RAIL_TF_NS20_TR(1.0)</td>\n",
       "      <td>2/2/2023 0:00</td>\n",
       "      <td>NR</td>\n",
       "      <td>TRS20105_NOT_TEN</td>\n",
       "      <td>TRN_PAS</td>\n",
       "      <td>2020</td>\n",
       "      <td>40149</td>\n",
       "      <td>2</td>\n",
       "      <td>3</td>\n",
       "    </tr>\n",
       "  </tbody>\n",
       "</table>\n",
       "<p>2088 rows × 9 columns</p>\n",
       "</div>"
      ],
      "text/plain": [
       "                        DATAFLOW           date unit         net_seg15  \\\n",
       "0     ESTAT:RAIL_TF_NS15_TR(1.0)       28/06/18   NR  TRS10001_NOT_TEN   \n",
       "1     ESTAT:RAIL_TF_NS15_TR(1.0)       28/06/18   NR  TRS10001_NOT_TEN   \n",
       "2     ESTAT:RAIL_TF_NS15_TR(1.0)       28/06/18   NR  TRS10001_NOT_TEN   \n",
       "3     ESTAT:RAIL_TF_NS15_TR(1.0)       28/06/18   NR  TRS10002_NOT_TEN   \n",
       "4     ESTAT:RAIL_TF_NS15_TR(1.0)       28/06/18   NR  TRS10002_NOT_TEN   \n",
       "...                          ...            ...  ...               ...   \n",
       "2083  ESTAT:RAIL_TF_NS20_TR(1.0)  2/2/2023 0:00   NR  TRS20103_NOT_TEN   \n",
       "2084  ESTAT:RAIL_TF_NS20_TR(1.0)  2/2/2023 0:00   NR  TRS20104_NOT_TEN   \n",
       "2085  ESTAT:RAIL_TF_NS20_TR(1.0)  2/2/2023 0:00   NR  TRS20104_NOT_TEN   \n",
       "2086  ESTAT:RAIL_TF_NS20_TR(1.0)  2/2/2023 0:00   NR  TRS20104_NOT_TEN   \n",
       "2087  ESTAT:RAIL_TF_NS20_TR(1.0)  2/2/2023 0:00   NR  TRS20105_NOT_TEN   \n",
       "\n",
       "        train  TIME_PERIOD  OBS_VALUE  New_train  New_DATAFLOW  \n",
       "0      TRN_GD         2015          1          0             2  \n",
       "1     TRN_OTH         2015          0          1             2  \n",
       "2     TRN_PAS         2015       1760          2             2  \n",
       "3      TRN_GD         2015        520          0             2  \n",
       "4     TRN_OTH         2015          6          1             2  \n",
       "...       ...          ...        ...        ...           ...  \n",
       "2083  TRN_PAS         2020       2920          2             3  \n",
       "2084   TRN_GD         2020          9          0             3  \n",
       "2085  TRN_OTH         2020         27          1             3  \n",
       "2086  TRN_PAS         2020       2846          2             3  \n",
       "2087  TRN_PAS         2020      40149          2             3  \n",
       "\n",
       "[2088 rows x 9 columns]"
      ]
     },
     "execution_count": 36,
     "metadata": {},
     "output_type": "execute_result"
    }
   ],
   "source": [
    "##Converting a variable into an integer\n",
    "tr['New_DATAFLOW'] = tr['DATAFLOW'].map({'ESTAT:RAIL_TF_NS_TR(1.0)': 0, 'ESTAT:RAIL_TF_NS10_TR(1.0)': 1 , 'ESTAT:RAIL_TF_NS15_TR(1.0)': 2 , 'ESTAT:RAIL_TF_NS20_TR(1.0)': 3 })\n",
    "tr"
   ]
  },
  {
   "cell_type": "code",
   "execution_count": 39,
   "id": "97244020-1e22-49db-b35c-374377a1e4a8",
   "metadata": {
    "tags": []
   },
   "outputs": [
    {
     "name": "stdout",
     "output_type": "stream",
     "text": [
      "Turkey Chi-Square Statistics: 0.24604150361301436\n",
      "Turkey P-value: 0.9997169667001707\n"
     ]
    }
   ],
   "source": [
    "#Chi-Square Test:\n",
    "\n",
    "# Sample data frame\n",
    "observed = pd.crosstab(tr['New_train'], tr['New_DATAFLOW'])\n",
    "\n",
    "#Chi-Square Test:\n",
    "chi2_statistic, p_value, _, _ = chi2_contingency(observed)\n",
    "\n",
    "print(f\"Turkey Chi-Square Statistics: {chi2_statistic}\")\n",
    "print(f\"Turkey P-value: {p_value}\")"
   ]
  },
  {
   "cell_type": "code",
   "execution_count": 38,
   "id": "e7e9a6b2-b878-4bd6-97ae-5cf3a5cb3f22",
   "metadata": {
    "tags": []
   },
   "outputs": [
    {
     "data": {
      "text/html": [
       "<div>\n",
       "<style scoped>\n",
       "    .dataframe tbody tr th:only-of-type {\n",
       "        vertical-align: middle;\n",
       "    }\n",
       "\n",
       "    .dataframe tbody tr th {\n",
       "        vertical-align: top;\n",
       "    }\n",
       "\n",
       "    .dataframe thead th {\n",
       "        text-align: right;\n",
       "    }\n",
       "</style>\n",
       "<table border=\"1\" class=\"dataframe\">\n",
       "  <thead>\n",
       "    <tr style=\"text-align: right;\">\n",
       "      <th></th>\n",
       "      <th>DATAFLOW</th>\n",
       "      <th>date</th>\n",
       "      <th>freq</th>\n",
       "      <th>unit</th>\n",
       "      <th>country</th>\n",
       "      <th>net_seg15</th>\n",
       "      <th>train</th>\n",
       "      <th>TIME_PERIOD</th>\n",
       "      <th>OBS_VALUE</th>\n",
       "      <th>New_train</th>\n",
       "      <th>New_DATAFLOW</th>\n",
       "    </tr>\n",
       "  </thead>\n",
       "  <tbody>\n",
       "    <tr>\n",
       "      <th>0</th>\n",
       "      <td>ESTAT:RAIL_TF_NS10_IE(1.0)</td>\n",
       "      <td>31/03/17 23:00:00</td>\n",
       "      <td>A</td>\n",
       "      <td>NR</td>\n",
       "      <td>Ireland</td>\n",
       "      <td>IES10001_TEN</td>\n",
       "      <td>TRN_PAS</td>\n",
       "      <td>2010</td>\n",
       "      <td>9650</td>\n",
       "      <td>2</td>\n",
       "      <td>1</td>\n",
       "    </tr>\n",
       "    <tr>\n",
       "      <th>1</th>\n",
       "      <td>ESTAT:RAIL_TF_NS10_IE(1.0)</td>\n",
       "      <td>31/03/17 23:00:00</td>\n",
       "      <td>A</td>\n",
       "      <td>NR</td>\n",
       "      <td>Ireland</td>\n",
       "      <td>IES10002_TEN</td>\n",
       "      <td>TRN_PAS</td>\n",
       "      <td>2010</td>\n",
       "      <td>12914</td>\n",
       "      <td>2</td>\n",
       "      <td>1</td>\n",
       "    </tr>\n",
       "    <tr>\n",
       "      <th>2</th>\n",
       "      <td>ESTAT:RAIL_TF_NS10_IE(1.0)</td>\n",
       "      <td>31/03/17 23:00:00</td>\n",
       "      <td>A</td>\n",
       "      <td>NR</td>\n",
       "      <td>Ireland</td>\n",
       "      <td>IES10003_TEN</td>\n",
       "      <td>TRN_PAS</td>\n",
       "      <td>2010</td>\n",
       "      <td>3467</td>\n",
       "      <td>2</td>\n",
       "      <td>1</td>\n",
       "    </tr>\n",
       "    <tr>\n",
       "      <th>3</th>\n",
       "      <td>ESTAT:RAIL_TF_NS10_IE(1.0)</td>\n",
       "      <td>31/03/17 23:00:00</td>\n",
       "      <td>A</td>\n",
       "      <td>NR</td>\n",
       "      <td>Ireland</td>\n",
       "      <td>IES10004_TEN</td>\n",
       "      <td>TRN_PAS</td>\n",
       "      <td>2010</td>\n",
       "      <td>2177</td>\n",
       "      <td>2</td>\n",
       "      <td>1</td>\n",
       "    </tr>\n",
       "    <tr>\n",
       "      <th>4</th>\n",
       "      <td>ESTAT:RAIL_TF_NS10_IE(1.0)</td>\n",
       "      <td>31/03/17 23:00:00</td>\n",
       "      <td>A</td>\n",
       "      <td>NR</td>\n",
       "      <td>Ireland</td>\n",
       "      <td>IES10005_TEN</td>\n",
       "      <td>TRN_PAS</td>\n",
       "      <td>2010</td>\n",
       "      <td>2743</td>\n",
       "      <td>2</td>\n",
       "      <td>1</td>\n",
       "    </tr>\n",
       "    <tr>\n",
       "      <th>...</th>\n",
       "      <td>...</td>\n",
       "      <td>...</td>\n",
       "      <td>...</td>\n",
       "      <td>...</td>\n",
       "      <td>...</td>\n",
       "      <td>...</td>\n",
       "      <td>...</td>\n",
       "      <td>...</td>\n",
       "      <td>...</td>\n",
       "      <td>...</td>\n",
       "      <td>...</td>\n",
       "    </tr>\n",
       "    <tr>\n",
       "      <th>223</th>\n",
       "      <td>ESTAT:RAIL_TF_NS20_IE(1.0)</td>\n",
       "      <td>2/2/2023 23:00</td>\n",
       "      <td>A</td>\n",
       "      <td>NR</td>\n",
       "      <td>Ireland</td>\n",
       "      <td>IES20026_TEN</td>\n",
       "      <td>TRN_GD</td>\n",
       "      <td>2020</td>\n",
       "      <td>0</td>\n",
       "      <td>0</td>\n",
       "      <td>3</td>\n",
       "    </tr>\n",
       "    <tr>\n",
       "      <th>224</th>\n",
       "      <td>ESTAT:RAIL_TF_NS20_IE(1.0)</td>\n",
       "      <td>2/2/2023 23:00</td>\n",
       "      <td>A</td>\n",
       "      <td>NR</td>\n",
       "      <td>Ireland</td>\n",
       "      <td>IES20027_TEN</td>\n",
       "      <td>TRN_GD</td>\n",
       "      <td>2020</td>\n",
       "      <td>0</td>\n",
       "      <td>0</td>\n",
       "      <td>3</td>\n",
       "    </tr>\n",
       "    <tr>\n",
       "      <th>225</th>\n",
       "      <td>ESTAT:RAIL_TF_NS20_IE(1.0)</td>\n",
       "      <td>2/2/2023 23:00</td>\n",
       "      <td>A</td>\n",
       "      <td>NR</td>\n",
       "      <td>Ireland</td>\n",
       "      <td>IES20028_TEN</td>\n",
       "      <td>TRN_PAS</td>\n",
       "      <td>2020</td>\n",
       "      <td>6499</td>\n",
       "      <td>2</td>\n",
       "      <td>3</td>\n",
       "    </tr>\n",
       "    <tr>\n",
       "      <th>226</th>\n",
       "      <td>ESTAT:RAIL_TF_NS20_IE(1.0)</td>\n",
       "      <td>2/2/2023 23:00</td>\n",
       "      <td>A</td>\n",
       "      <td>NR</td>\n",
       "      <td>Ireland</td>\n",
       "      <td>IES20029_TEN</td>\n",
       "      <td>TRN_PAS</td>\n",
       "      <td>2020</td>\n",
       "      <td>5830</td>\n",
       "      <td>2</td>\n",
       "      <td>3</td>\n",
       "    </tr>\n",
       "    <tr>\n",
       "      <th>227</th>\n",
       "      <td>ESTAT:RAIL_TF_NS20_IE(1.0)</td>\n",
       "      <td>2/2/2023 23:00</td>\n",
       "      <td>A</td>\n",
       "      <td>NR</td>\n",
       "      <td>Ireland</td>\n",
       "      <td>IES20030_TEN</td>\n",
       "      <td>TRN_PAS</td>\n",
       "      <td>2020</td>\n",
       "      <td>4219</td>\n",
       "      <td>2</td>\n",
       "      <td>3</td>\n",
       "    </tr>\n",
       "  </tbody>\n",
       "</table>\n",
       "<p>228 rows × 11 columns</p>\n",
       "</div>"
      ],
      "text/plain": [
       "                       DATAFLOW               date freq unit  country  \\\n",
       "0    ESTAT:RAIL_TF_NS10_IE(1.0)  31/03/17 23:00:00    A   NR  Ireland   \n",
       "1    ESTAT:RAIL_TF_NS10_IE(1.0)  31/03/17 23:00:00    A   NR  Ireland   \n",
       "2    ESTAT:RAIL_TF_NS10_IE(1.0)  31/03/17 23:00:00    A   NR  Ireland   \n",
       "3    ESTAT:RAIL_TF_NS10_IE(1.0)  31/03/17 23:00:00    A   NR  Ireland   \n",
       "4    ESTAT:RAIL_TF_NS10_IE(1.0)  31/03/17 23:00:00    A   NR  Ireland   \n",
       "..                          ...                ...  ...  ...      ...   \n",
       "223  ESTAT:RAIL_TF_NS20_IE(1.0)     2/2/2023 23:00    A   NR  Ireland   \n",
       "224  ESTAT:RAIL_TF_NS20_IE(1.0)     2/2/2023 23:00    A   NR  Ireland   \n",
       "225  ESTAT:RAIL_TF_NS20_IE(1.0)     2/2/2023 23:00    A   NR  Ireland   \n",
       "226  ESTAT:RAIL_TF_NS20_IE(1.0)     2/2/2023 23:00    A   NR  Ireland   \n",
       "227  ESTAT:RAIL_TF_NS20_IE(1.0)     2/2/2023 23:00    A   NR  Ireland   \n",
       "\n",
       "        net_seg15    train  TIME_PERIOD  OBS_VALUE  New_train  New_DATAFLOW  \n",
       "0    IES10001_TEN  TRN_PAS         2010       9650          2             1  \n",
       "1    IES10002_TEN  TRN_PAS         2010      12914          2             1  \n",
       "2    IES10003_TEN  TRN_PAS         2010       3467          2             1  \n",
       "3    IES10004_TEN  TRN_PAS         2010       2177          2             1  \n",
       "4    IES10005_TEN  TRN_PAS         2010       2743          2             1  \n",
       "..            ...      ...          ...        ...        ...           ...  \n",
       "223  IES20026_TEN   TRN_GD         2020          0          0             3  \n",
       "224  IES20027_TEN   TRN_GD         2020          0          0             3  \n",
       "225  IES20028_TEN  TRN_PAS         2020       6499          2             3  \n",
       "226  IES20029_TEN  TRN_PAS         2020       5830          2             3  \n",
       "227  IES20030_TEN  TRN_PAS         2020       4219          2             3  \n",
       "\n",
       "[228 rows x 11 columns]"
      ]
     },
     "execution_count": 38,
     "metadata": {},
     "output_type": "execute_result"
    }
   ],
   "source": [
    "##Converting a variable into an integer\n",
    "irl['New_DATAFLOW'] = irl['DATAFLOW'].map({'ESTAT:RAIL_TF_NS_IE(1.0)': 0, 'ESTAT:RAIL_TF_NS10_IE(1.0)': 1 , 'ESTAT:RAIL_TF_NS15_IE(1.0)': 2 , 'ESTAT:RAIL_TF_NS20_IE(1.0)': 3 })\n",
    "irl"
   ]
  },
  {
   "cell_type": "code",
   "execution_count": 40,
   "id": "75ac81e2-ba75-447d-94ee-fb8c5d04a6ae",
   "metadata": {
    "tags": []
   },
   "outputs": [
    {
     "name": "stdout",
     "output_type": "stream",
     "text": [
      "Ireland Chi-Square Statistics: 0.22110954726718246\n",
      "Ireland P-value: 0.974111634651164\n"
     ]
    }
   ],
   "source": [
    "#Chi-Square Test:\n",
    "\n",
    "# Sample data frame\n",
    "observed = pd.crosstab(irl['New_train'], irl['New_DATAFLOW'])\n",
    "\n",
    "#Chi-Square Test:\n",
    "chi2_statistic, p_value, _, _ = chi2_contingency(observed)\n",
    "\n",
    "print(f\"Ireland Chi-Square Statistics: {chi2_statistic}\")\n",
    "print(f\"Ireland P-value: {p_value}\")"
   ]
  },
  {
   "cell_type": "code",
   "execution_count": 41,
   "id": "e77fc427-9cee-4a8a-a6c8-3654608a7f81",
   "metadata": {
    "tags": []
   },
   "outputs": [
    {
     "name": "stdout",
     "output_type": "stream",
     "text": [
      "Turkey Pearson Correlation Coefficient: 0.1543595971492831\n",
      "Turkey P-value: 1.3245073721005747e-12\n"
     ]
    }
   ],
   "source": [
    "#PearsonCorrelation\n",
    "\n",
    "# Sample data frame\n",
    "variable1 = tr['OBS_VALUE']\n",
    "variable2 = tr['New_train']\n",
    "\n",
    "# Correlation test\n",
    "correlation_coefficient, p_value = pearsonr(variable1, variable2)\n",
    "\n",
    "print(f\"Turkey Pearson Correlation Coefficient: {correlation_coefficient}\")\n",
    "print(f\"Turkey P-value: {p_value}\")"
   ]
  },
  {
   "cell_type": "code",
   "execution_count": 42,
   "id": "88a00f65-7258-422c-ae2d-ff9ecf4a8464",
   "metadata": {
    "tags": []
   },
   "outputs": [
    {
     "name": "stdout",
     "output_type": "stream",
     "text": [
      "Ireland Pearson Correlation Coefficient: 0.5586237223055546\n",
      "Ireland P-value: 4.1339328677284406e-20\n"
     ]
    }
   ],
   "source": [
    "#PearsonCorrelation\n",
    "\n",
    "# Sample data frame\n",
    "variable1 = irl['OBS_VALUE']\n",
    "variable2 = irl['New_train']\n",
    "\n",
    "# Correlation test\n",
    "correlation_coefficient, p_value = pearsonr(variable1, variable2)\n",
    "\n",
    "print(f\"Ireland Pearson Correlation Coefficient: {correlation_coefficient}\")\n",
    "print(f\"Ireland P-value: {p_value}\")"
   ]
  },
  {
   "cell_type": "markdown",
   "id": "39df45b4-cfa9-4584-b3e9-3223c9a873d0",
   "metadata": {},
   "source": [
    "# Machine Learning "
   ]
  },
  {
   "cell_type": "code",
   "execution_count": 43,
   "id": "dc877722-cfa3-482c-b6e7-e7d129567b9a",
   "metadata": {
    "tags": []
   },
   "outputs": [
    {
     "name": "stdout",
     "output_type": "stream",
     "text": [
      "Turkey RandomForestRegressor R² Score: -0.0002394474174622907\n",
      "Tukiye LinearRegression R² Score: -0.005860601865701032\n"
     ]
    }
   ],
   "source": [
    "df = pd.DataFrame(tr)\n",
    "X = tr[['New_DATAFLOW','TIME_PERIOD', 'New_train']]\n",
    "y = tr[ 'OBS_VALUE']\n",
    "\n",
    "# Split the data into training and testing sets\n",
    "X_train, X_test, y_train, y_test = train_test_split(X, y, test_size=0.2, random_state=42)\n",
    "\n",
    "# Model 1: RandomForestRegressor\n",
    "rf_model = RandomForestRegressor(n_estimators=100, random_state=42)\n",
    "rf_model.fit(X_train, y_train)\n",
    "rf_predictions = rf_model.predict(X_test)\n",
    "\n",
    "#Model 2: LinearRegression\n",
    "lr_model = LinearRegression()\n",
    "lr_model.fit(X_train, y_train)\n",
    "lr_predictions = lr_model.predict(X_test)\n",
    "\n",
    "# Evaluate model performance (R² score used)\n",
    "rf_r2_score = r2_score(y_test, rf_predictions)\n",
    "lr_r2_score = r2_score(y_test, lr_predictions)\n",
    "\n",
    "# Compare results\n",
    "print(f\"Turkey RandomForestRegressor R² Score: {rf_r2_score}\")\n",
    "print(f\"Tukiye LinearRegression R² Score: {lr_r2_score}\")"
   ]
  },
  {
   "cell_type": "code",
   "execution_count": 44,
   "id": "1e8a38c0-0c4b-48b6-9a9d-9f83bf1765ac",
   "metadata": {
    "tags": []
   },
   "outputs": [
    {
     "name": "stdout",
     "output_type": "stream",
     "text": [
      "Ireland RandomForestRegressor R² Score: 0.28988650823211914\n",
      "Ireland LinearRegression R² Score: 0.2795804568946998\n"
     ]
    }
   ],
   "source": [
    "df = pd.DataFrame(tr)\n",
    "X = irl[['New_DATAFLOW','TIME_PERIOD', 'New_train']]\n",
    "y = irl[ 'OBS_VALUE']\n",
    "\n",
    "# Split the data into training and testing sets\n",
    "X_train, X_test, y_train, y_test = train_test_split(X, y, test_size=0.2, random_state=42)\n",
    "\n",
    "# Model 1: RandomForestRegressor\n",
    "rf_model = RandomForestRegressor(n_estimators=100, random_state=42)\n",
    "rf_model.fit(X_train, y_train)\n",
    "rf_predictions = rf_model.predict(X_test)\n",
    "\n",
    "#Model 2: LinearRegression\n",
    "lr_model = LinearRegression()\n",
    "lr_model.fit(X_train, y_train)\n",
    "lr_predictions = lr_model.predict(X_test)\n",
    "\n",
    "# Evaluate model performance (R² score used)\n",
    "rf_r2_score = r2_score(y_test, rf_predictions)\n",
    "lr_r2_score = r2_score(y_test, lr_predictions)\n",
    "\n",
    "# Compare results\n",
    "print(f\"Ireland RandomForestRegressor R² Score: {rf_r2_score}\")\n",
    "print(f\"Ireland LinearRegression R² Score: {lr_r2_score}\")"
   ]
  },
  {
   "cell_type": "code",
   "execution_count": 45,
   "id": "bdc2baf1-bd3a-4071-a678-360648f163be",
   "metadata": {
    "tags": []
   },
   "outputs": [
    {
     "name": "stdout",
     "output_type": "stream",
     "text": [
      "Best Params for Random Forest Regressor:  {'max_depth': None, 'min_samples_leaf': 2, 'min_samples_split': 10, 'n_estimators': 50}\n",
      "Best R² Score for Random Forest Regressor:  0.06022395470202493\n",
      "Best Parameters for Turkey Gradient Boosting Regressor:  {'learning_rate': 0.01, 'max_depth': 3, 'min_samples_leaf': 1, 'min_samples_split': 2, 'n_estimators': 200}\n",
      "Best R² Score for Turkey Gradient Boosting Regressor:  0.061182222367707054\n"
     ]
    }
   ],
   "source": [
    "import pandas as pd\n",
    "from sklearn.model_selection import train_test_split, GridSearchCV\n",
    "from sklearn.ensemble import RandomForestRegressor, GradientBoostingRegressor\n",
    "\n",
    "\n",
    "\n",
    "# Select properties and target variable\n",
    "X = tr[['New_DATAFLOW', 'TIME_PERIOD', 'New_train']]\n",
    "y = tr['OBS_VALUE']\n",
    "\n",
    "# Split the data into training and testing sets\n",
    "X_train, X_test, y_train, y_test = train_test_split(X, y, test_size=0.2, random_state=42)\n",
    "\n",
    "# Model 1: Random Forest Regressor\n",
    "rf_model = RandomForestRegressor()\n",
    "\n",
    "# Parameters to use for hyperparameter search\n",
    "param_grid_rf = {\n",
    "     'n_estimators': [50, 100, 200],\n",
    "     'max_depth': [None, 10, 20],\n",
    "     'min_samples_split': [2, 5, 10],\n",
    "     'min_samples_leaf': [1, 2, 4]\n",
    "}\n",
    "\n",
    "# Find the best parameters with GridSearchCV\n",
    "grid_search_rf = GridSearchCV(estimator=rf_model, param_grid=param_grid_rf, scoring='r2', cv=5)\n",
    "grid_search_rf.fit(X_train, y_train)\n",
    "\n",
    "# Print the best parameters and R² score\n",
    "print(\"Best Params for Random Forest Regressor: \", grid_search_rf.best_params_)\n",
    "print(\"Best R² Score for Random Forest Regressor: \", grid_search_rf.best_score_)\n",
    "\n",
    "# Model 2: Gradient Boosting Regressor\n",
    "gb_model = GradientBoostingRegressor()\n",
    "\n",
    "# Parameters to use for hyperparameter search\n",
    "param_grid_gb = {\n",
    "     'n_estimators': [50, 100, 200],\n",
    "     'learning_rate': [0.01, 0.1, 0.2],\n",
    "     'max_depth': [3, 4, 5],\n",
    "     'min_samples_split': [2, 5, 10],\n",
    "     'min_samples_leaf': [1, 2, 4]\n",
    "}\n",
    "\n",
    "# Find the best parameters with GridSearchCV\n",
    "grid_search_gb = GridSearchCV(estimator=gb_model, param_grid=param_grid_gb, scoring='r2', cv=5)\n",
    "grid_search_gb.fit(X_train, y_train)\n",
    "\n",
    "# Print the best parameters and R² score\n",
    "print(\"Best Parameters for Turkey Gradient Boosting Regressor: \", grid_search_gb.best_params_)\n",
    "print(\"Best R² Score for Turkey Gradient Boosting Regressor: \", grid_search_gb.best_score_)"
   ]
  },
  {
   "cell_type": "code",
   "execution_count": 46,
   "id": "4369a485-022d-4415-9c65-a1409ada72d4",
   "metadata": {
    "tags": []
   },
   "outputs": [
    {
     "name": "stdout",
     "output_type": "stream",
     "text": [
      "Best Params for Random Forest Regressor:  {'max_depth': 20, 'min_samples_leaf': 1, 'min_samples_split': 2, 'n_estimators': 50}\n",
      "Best R² Score for Random Forest Regressor:  0.2910243043892235\n",
      "Best Params for Irish Gradient Boosting Regressor:  {'learning_rate': 0.01, 'max_depth': 3, 'min_samples_leaf': 1, 'min_samples_split': 2, 'n_estimators': 200}\n",
      "Best R² Score for Ireland Boosting Regressor:  0.2866177963792338\n"
     ]
    }
   ],
   "source": [
    "import pandas as pd\n",
    "from sklearn.model_selection import train_test_split, GridSearchCV\n",
    "from sklearn.ensemble import RandomForestRegressor, GradientBoostingRegressor\n",
    "\n",
    "\n",
    "\n",
    "# Select properties and target variable\n",
    "X = irl[['New_DATAFLOW', 'TIME_PERIOD', 'New_train']]\n",
    "y = irl['OBS_VALUE']\n",
    "\n",
    "# Split the data into training and testing sets\n",
    "X_train, X_test, y_train, y_test = train_test_split(X, y, test_size=0.2, random_state=42)\n",
    "\n",
    "# Model 1: Random Forest Regressor\n",
    "rf_model = RandomForestRegressor()\n",
    "\n",
    "# Parameters to use for hyperparameter search\n",
    "param_grid_rf = {\n",
    "     'n_estimators': [50, 100, 200],\n",
    "     'max_depth': [None, 10, 20],\n",
    "     'min_samples_split': [2, 5, 10],\n",
    "     'min_samples_leaf': [1, 2, 4]\n",
    "}\n",
    "\n",
    "# Find the best parameters with GridSearchCV\n",
    "grid_search_rf = GridSearchCV(estimator=rf_model, param_grid=param_grid_rf, scoring='r2', cv=5)\n",
    "grid_search_rf.fit(X_train, y_train)\n",
    "\n",
    "# Print the best parameters and R² score\n",
    "print(\"Best Params for Random Forest Regressor: \", grid_search_rf.best_params_)\n",
    "print(\"Best R² Score for Random Forest Regressor: \", grid_search_rf.best_score_)\n",
    "\n",
    "# Model 2: Gradient Boosting Regressor\n",
    "gb_model = GradientBoostingRegressor()\n",
    "\n",
    "# Parameters to use for hyperparameter search\n",
    "param_grid_gb = {\n",
    "     'n_estimators': [50, 100, 200],\n",
    "     'learning_rate': [0.01, 0.1, 0.2],\n",
    "     'max_depth': [3, 4, 5],\n",
    "     'min_samples_split': [2, 5, 10],\n",
    "     'min_samples_leaf': [1, 2, 4]\n",
    "}\n",
    "\n",
    "# Find the best parameters with GridSearchCV\n",
    "grid_search_gb = GridSearchCV(estimator=gb_model, param_grid=param_grid_gb, scoring='r2', cv=5)\n",
    "grid_search_gb.fit(X_train, y_train)\n",
    "\n",
    "# Print the best parameters and R² score\n",
    "print(\"Best Params for Irish Gradient Boosting Regressor: \", grid_search_gb.best_params_)\n",
    "print(\"Best R² Score for Ireland Boosting Regressor: \", grid_search_gb.best_score_)"
   ]
  },
  {
   "cell_type": "code",
   "execution_count": 47,
   "id": "2d6d8d28-9854-4eca-ae06-924c7eec4b41",
   "metadata": {
    "tags": []
   },
   "outputs": [
    {
     "name": "stdout",
     "output_type": "stream",
     "text": [
      " Turkey Model Performance (MSE): 9397456.050578455\n",
      "Turkey Cross Validation Average Performance (MSE): 20373828.30649342\n"
     ]
    }
   ],
   "source": [
    "#PCA usage\n",
    "# Select properties and target variable\n",
    "X = tr[['New_DATAFLOW', 'TIME_PERIOD', 'New_train']]\n",
    "y = tr['OBS_VALUE']\n",
    "\n",
    "# Split the data into training and testing sets\n",
    "X_train, X_test, y_train, y_test = train_test_split(X, y, test_size=0.2, random_state=42)\n",
    "\n",
    "# Dimension reduction process: use of PCA\n",
    "pca = PCA(n_components=2)\n",
    "X_train_pca = pca.fit_transform(X_train)\n",
    "X_test_pca = pca.transform(X_test)\n",
    "\n",
    "# Create the model\n",
    "rf_model = RandomForestRegressor()\n",
    "\n",
    "# Train the model\n",
    "rf_model.fit(X_train_pca, y_train)\n",
    "\n",
    "# Test the model\n",
    "y_pred = rf_model.predict(X_test_pca)\n",
    "\n",
    "# Evaluate model performance (e.g. mean square error used)\n",
    "mse = mean_squared_error(y_test, y_pred)\n",
    "print(f\" Turkey Model Performance (MSE): {mse}\")\n",
    "\n",
    "# Cross validation process\n",
    "cross_val_scores = cross_val_score(rf_model, X_train_pca, y_train, cv=5, scoring='neg_mean_squared_error')\n",
    "avg_cross_val_mse = -cross_val_scores.mean()\n",
    "print(f\"Turkey Cross Validation Average Performance (MSE): {avg_cross_val_mse}\")"
   ]
  },
  {
   "cell_type": "code",
   "execution_count": 48,
   "id": "33ae487e-f541-46c9-81ab-41da3726f4e4",
   "metadata": {
    "tags": []
   },
   "outputs": [
    {
     "name": "stdout",
     "output_type": "stream",
     "text": [
      " Ireland Model Performance (MSE): 25706296.946953658\n",
      "Ireland Cross Validation Average Performance (MSE): 17844235.69968812\n"
     ]
    }
   ],
   "source": [
    "#PCA usage\n",
    "# Select properties and target variable\n",
    "X = irl[['New_DATAFLOW', 'TIME_PERIOD', 'New_train']]\n",
    "y = irl['OBS_VALUE']\n",
    "\n",
    "# Split the data into training and testing sets\n",
    "X_train, X_test, y_train, y_test = train_test_split(X, y, test_size=0.2, random_state=42)\n",
    "\n",
    "# Dimension reduction process: use of PCA\n",
    "pca = PCA(n_components=2)\n",
    "X_train_pca = pca.fit_transform(X_train)\n",
    "X_test_pca = pca.transform(X_test)\n",
    "\n",
    "# Create the model\n",
    "rf_model = RandomForestRegressor()\n",
    "\n",
    "# Train the model\n",
    "rf_model.fit(X_train_pca, y_train)\n",
    "\n",
    "# Test the model\n",
    "y_pred = rf_model.predict(X_test_pca)\n",
    "\n",
    "# Evaluate model performance (e.g. mean square error used)\n",
    "mse = mean_squared_error(y_test, y_pred)\n",
    "print(f\" Ireland Model Performance (MSE): {mse}\")\n",
    "\n",
    "# Cross validation process\n",
    "cross_val_scores = cross_val_score(rf_model, X_train_pca, y_train, cv=5, scoring='neg_mean_squared_error')\n",
    "avg_cross_val_mse = -cross_val_scores.mean()\n",
    "print(f\"Ireland Cross Validation Average Performance (MSE): {avg_cross_val_mse}\")"
   ]
  },
  {
   "cell_type": "code",
   "execution_count": null,
   "id": "e89c8460-78f8-4a27-b35b-5266d975a807",
   "metadata": {
    "tags": []
   },
   "outputs": [],
   "source": [
    "# Select properties and target variable\n",
    "X = tr[['New_DATAFLOW', 'TIME_PERIOD', 'New_train']]\n",
    "y = tr['OBS_VALUE']\n",
    "\n",
    "# Split the data into training and testing sets\n",
    "X_train, X_test, y_train, y_test = train_test_split(X, y, test_size=0.2, random_state=42)\n",
    "\n",
    "# Create the model\n",
    "rf_model = RandomForestRegressor()\n",
    "rf_model.fit(X_train, y_train)\n",
    "\n",
    "# Make predictions\n",
    "y_pred = rf_model.predict(X_test)\n",
    "\n",
    "# Calculate metrics\n",
    "r2 = r2_score(y_test, y_pred)\n",
    "mse = mean_squared_error(y_test, y_pred)\n",
    "mae = mean_absolute_error(y_test, y_pred)\n",
    "\n",
    "# Print the results\n",
    "print(f\"Turkey R² Score: {r2}\")\n",
    "print(f\"Turkiye Mean Squared Error (MSE): {mse}\")\n",
    "print(f\"Turkey Mean Absolute Error (MAE): {mae}\")"
   ]
  },
  {
   "cell_type": "code",
   "execution_count": 49,
   "id": "f2647d23-ee03-4335-bf32-99eb552bc8f8",
   "metadata": {
    "tags": []
   },
   "outputs": [
    {
     "name": "stdout",
     "output_type": "stream",
     "text": [
      "Ireland R² Score: 0.292328451864597\n",
      "Ireland Mean Squared Error (MSE): 25959159.686605588\n",
      "Ireland Mean Absolute Error (MAE): 2704.5497635285265\n"
     ]
    }
   ],
   "source": [
    "# Select properties and target variable\n",
    "X = irl[['New_DATAFLOW', 'TIME_PERIOD', 'New_train']]\n",
    "y = irl['OBS_VALUE']\n",
    "\n",
    "# Split the data into training and testing sets\n",
    "X_train, X_test, y_train, y_test = train_test_split(X, y, test_size=0.2, random_state=42)\n",
    "\n",
    "# Create the model\n",
    "rf_model = RandomForestRegressor()\n",
    "rf_model.fit(X_train, y_train)\n",
    "\n",
    "# Make predictions\n",
    "y_pred = rf_model.predict(X_test)\n",
    "\n",
    "# Calculate metrics\n",
    "r2 = r2_score(y_test, y_pred)\n",
    "mse = mean_squared_error(y_test, y_pred)\n",
    "mae = mean_absolute_error(y_test, y_pred)\n",
    "\n",
    "# Print the results\n",
    "print(f\"Ireland R² Score: {r2}\")\n",
    "print(f\"Ireland Mean Squared Error (MSE): {mse}\")\n",
    "print(f\"Ireland Mean Absolute Error (MAE): {mae}\")"
   ]
  },
  {
   "cell_type": "code",
   "execution_count": null,
   "id": "b504a5d3-ca5e-46f1-83be-dd62ccc832b4",
   "metadata": {},
   "outputs": [],
   "source": []
  }
 ],
 "metadata": {
  "kernelspec": {
   "display_name": "Python 3 (ipykernel)",
   "language": "python",
   "name": "python3"
  },
  "language_info": {
   "codemirror_mode": {
    "name": "ipython",
    "version": 3
   },
   "file_extension": ".py",
   "mimetype": "text/x-python",
   "name": "python",
   "nbconvert_exporter": "python",
   "pygments_lexer": "ipython3",
   "version": "3.11.4"
  }
 },
 "nbformat": 4,
 "nbformat_minor": 5
}
